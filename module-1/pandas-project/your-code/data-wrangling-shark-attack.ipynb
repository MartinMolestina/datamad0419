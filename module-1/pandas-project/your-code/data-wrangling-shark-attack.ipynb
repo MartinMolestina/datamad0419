{
 "cells": [
  {
   "cell_type": "markdown",
   "metadata": {},
   "source": [
    "# Shark!!!!!\n",
    "## Data driven conclusions on shark attacks worldwide.\n"
   ]
  },
  {
   "cell_type": "markdown",
   "metadata": {},
   "source": [
    "As a first step we import all the packages needed"
   ]
  },
  {
   "cell_type": "code",
   "execution_count": 1,
   "metadata": {},
   "outputs": [],
   "source": [
    "import pandas as pd\n",
    "import numpy as np\n",
    "import matplotlib.pyplot as plt\n",
    "import matplotlib.style as style\n",
    "import seaborn as sns"
   ]
  },
  {
   "cell_type": "markdown",
   "metadata": {},
   "source": [
    "The first step is to import the csv file into a Pandas data frame.  We show the head of the data frame in order to make a visual analysys of the provided data."
   ]
  },
  {
   "cell_type": "code",
   "execution_count": 2,
   "metadata": {},
   "outputs": [
    {
     "data": {
      "text/html": [
       "<div>\n",
       "<style scoped>\n",
       "    .dataframe tbody tr th:only-of-type {\n",
       "        vertical-align: middle;\n",
       "    }\n",
       "\n",
       "    .dataframe tbody tr th {\n",
       "        vertical-align: top;\n",
       "    }\n",
       "\n",
       "    .dataframe thead th {\n",
       "        text-align: right;\n",
       "    }\n",
       "</style>\n",
       "<table border=\"1\" class=\"dataframe\">\n",
       "  <thead>\n",
       "    <tr style=\"text-align: right;\">\n",
       "      <th></th>\n",
       "      <th>Case Number</th>\n",
       "      <th>Date</th>\n",
       "      <th>Year</th>\n",
       "      <th>Type</th>\n",
       "      <th>Country</th>\n",
       "      <th>Area</th>\n",
       "      <th>Location</th>\n",
       "      <th>Activity</th>\n",
       "      <th>Name</th>\n",
       "      <th>Sex</th>\n",
       "      <th>...</th>\n",
       "      <th>Species</th>\n",
       "      <th>Investigator or Source</th>\n",
       "      <th>pdf</th>\n",
       "      <th>href formula</th>\n",
       "      <th>href</th>\n",
       "      <th>Case Number.1</th>\n",
       "      <th>Case Number.2</th>\n",
       "      <th>original order</th>\n",
       "      <th>Unnamed: 22</th>\n",
       "      <th>Unnamed: 23</th>\n",
       "    </tr>\n",
       "  </thead>\n",
       "  <tbody>\n",
       "    <tr>\n",
       "      <th>0</th>\n",
       "      <td>2016.09.18.c</td>\n",
       "      <td>18-Sep-16</td>\n",
       "      <td>2016</td>\n",
       "      <td>Unprovoked</td>\n",
       "      <td>USA</td>\n",
       "      <td>Florida</td>\n",
       "      <td>New Smyrna Beach, Volusia County</td>\n",
       "      <td>Surfing</td>\n",
       "      <td>male</td>\n",
       "      <td>M</td>\n",
       "      <td>...</td>\n",
       "      <td>NaN</td>\n",
       "      <td>Orlando Sentinel, 9/19/2016</td>\n",
       "      <td>2016.09.18.c-NSB.pdf</td>\n",
       "      <td>http://sharkattackfile.net/spreadsheets/pdf_di...</td>\n",
       "      <td>http://sharkattackfile.net/spreadsheets/pdf_di...</td>\n",
       "      <td>2016.09.18.c</td>\n",
       "      <td>2016.09.18.c</td>\n",
       "      <td>5993</td>\n",
       "      <td>NaN</td>\n",
       "      <td>NaN</td>\n",
       "    </tr>\n",
       "    <tr>\n",
       "      <th>1</th>\n",
       "      <td>2016.09.18.b</td>\n",
       "      <td>18-Sep-16</td>\n",
       "      <td>2016</td>\n",
       "      <td>Unprovoked</td>\n",
       "      <td>USA</td>\n",
       "      <td>Florida</td>\n",
       "      <td>New Smyrna Beach, Volusia County</td>\n",
       "      <td>Surfing</td>\n",
       "      <td>Chucky Luciano</td>\n",
       "      <td>M</td>\n",
       "      <td>...</td>\n",
       "      <td>NaN</td>\n",
       "      <td>Orlando Sentinel, 9/19/2016</td>\n",
       "      <td>2016.09.18.b-Luciano.pdf</td>\n",
       "      <td>http://sharkattackfile.net/spreadsheets/pdf_di...</td>\n",
       "      <td>http://sharkattackfile.net/spreadsheets/pdf_di...</td>\n",
       "      <td>2016.09.18.b</td>\n",
       "      <td>2016.09.18.b</td>\n",
       "      <td>5992</td>\n",
       "      <td>NaN</td>\n",
       "      <td>NaN</td>\n",
       "    </tr>\n",
       "    <tr>\n",
       "      <th>2</th>\n",
       "      <td>2016.09.18.a</td>\n",
       "      <td>18-Sep-16</td>\n",
       "      <td>2016</td>\n",
       "      <td>Unprovoked</td>\n",
       "      <td>USA</td>\n",
       "      <td>Florida</td>\n",
       "      <td>New Smyrna Beach, Volusia County</td>\n",
       "      <td>Surfing</td>\n",
       "      <td>male</td>\n",
       "      <td>M</td>\n",
       "      <td>...</td>\n",
       "      <td>NaN</td>\n",
       "      <td>Orlando Sentinel, 9/19/2016</td>\n",
       "      <td>2016.09.18.a-NSB.pdf</td>\n",
       "      <td>http://sharkattackfile.net/spreadsheets/pdf_di...</td>\n",
       "      <td>http://sharkattackfile.net/spreadsheets/pdf_di...</td>\n",
       "      <td>2016.09.18.a</td>\n",
       "      <td>2016.09.18.a</td>\n",
       "      <td>5991</td>\n",
       "      <td>NaN</td>\n",
       "      <td>NaN</td>\n",
       "    </tr>\n",
       "    <tr>\n",
       "      <th>3</th>\n",
       "      <td>2016.09.17</td>\n",
       "      <td>17-Sep-16</td>\n",
       "      <td>2016</td>\n",
       "      <td>Unprovoked</td>\n",
       "      <td>AUSTRALIA</td>\n",
       "      <td>Victoria</td>\n",
       "      <td>Thirteenth Beach</td>\n",
       "      <td>Surfing</td>\n",
       "      <td>Rory Angiolella</td>\n",
       "      <td>M</td>\n",
       "      <td>...</td>\n",
       "      <td>NaN</td>\n",
       "      <td>The Age, 9/18/2016</td>\n",
       "      <td>2016.09.17-Angiolella.pdf</td>\n",
       "      <td>http://sharkattackfile.net/spreadsheets/pdf_di...</td>\n",
       "      <td>http://sharkattackfile.net/spreadsheets/pdf_di...</td>\n",
       "      <td>2016.09.17</td>\n",
       "      <td>2016.09.17</td>\n",
       "      <td>5990</td>\n",
       "      <td>NaN</td>\n",
       "      <td>NaN</td>\n",
       "    </tr>\n",
       "    <tr>\n",
       "      <th>4</th>\n",
       "      <td>2016.09.15</td>\n",
       "      <td>16-Sep-16</td>\n",
       "      <td>2016</td>\n",
       "      <td>Unprovoked</td>\n",
       "      <td>AUSTRALIA</td>\n",
       "      <td>Victoria</td>\n",
       "      <td>Bells Beach</td>\n",
       "      <td>Surfing</td>\n",
       "      <td>male</td>\n",
       "      <td>M</td>\n",
       "      <td>...</td>\n",
       "      <td>2 m shark</td>\n",
       "      <td>The Age, 9/16/2016</td>\n",
       "      <td>2016.09.16-BellsBeach.pdf</td>\n",
       "      <td>http://sharkattackfile.net/spreadsheets/pdf_di...</td>\n",
       "      <td>http://sharkattackfile.net/spreadsheets/pdf_di...</td>\n",
       "      <td>2016.09.16</td>\n",
       "      <td>2016.09.15</td>\n",
       "      <td>5989</td>\n",
       "      <td>NaN</td>\n",
       "      <td>NaN</td>\n",
       "    </tr>\n",
       "  </tbody>\n",
       "</table>\n",
       "<p>5 rows × 24 columns</p>\n",
       "</div>"
      ],
      "text/plain": [
       "    Case Number       Date  Year        Type    Country      Area  \\\n",
       "0  2016.09.18.c  18-Sep-16  2016  Unprovoked        USA   Florida   \n",
       "1  2016.09.18.b  18-Sep-16  2016  Unprovoked        USA   Florida   \n",
       "2  2016.09.18.a  18-Sep-16  2016  Unprovoked        USA   Florida   \n",
       "3    2016.09.17  17-Sep-16  2016  Unprovoked  AUSTRALIA  Victoria   \n",
       "4    2016.09.15  16-Sep-16  2016  Unprovoked  AUSTRALIA  Victoria   \n",
       "\n",
       "                           Location Activity             Name Sex   \\\n",
       "0  New Smyrna Beach, Volusia County  Surfing             male    M   \n",
       "1  New Smyrna Beach, Volusia County  Surfing   Chucky Luciano    M   \n",
       "2  New Smyrna Beach, Volusia County  Surfing             male    M   \n",
       "3                  Thirteenth Beach  Surfing  Rory Angiolella    M   \n",
       "4                       Bells Beach  Surfing             male    M   \n",
       "\n",
       "      ...       Species        Investigator or Source  \\\n",
       "0     ...            NaN  Orlando Sentinel, 9/19/2016   \n",
       "1     ...            NaN  Orlando Sentinel, 9/19/2016   \n",
       "2     ...            NaN  Orlando Sentinel, 9/19/2016   \n",
       "3     ...            NaN           The Age, 9/18/2016   \n",
       "4     ...      2 m shark           The Age, 9/16/2016   \n",
       "\n",
       "                         pdf  \\\n",
       "0       2016.09.18.c-NSB.pdf   \n",
       "1   2016.09.18.b-Luciano.pdf   \n",
       "2       2016.09.18.a-NSB.pdf   \n",
       "3  2016.09.17-Angiolella.pdf   \n",
       "4  2016.09.16-BellsBeach.pdf   \n",
       "\n",
       "                                        href formula  \\\n",
       "0  http://sharkattackfile.net/spreadsheets/pdf_di...   \n",
       "1  http://sharkattackfile.net/spreadsheets/pdf_di...   \n",
       "2  http://sharkattackfile.net/spreadsheets/pdf_di...   \n",
       "3  http://sharkattackfile.net/spreadsheets/pdf_di...   \n",
       "4  http://sharkattackfile.net/spreadsheets/pdf_di...   \n",
       "\n",
       "                                                href Case Number.1  \\\n",
       "0  http://sharkattackfile.net/spreadsheets/pdf_di...  2016.09.18.c   \n",
       "1  http://sharkattackfile.net/spreadsheets/pdf_di...  2016.09.18.b   \n",
       "2  http://sharkattackfile.net/spreadsheets/pdf_di...  2016.09.18.a   \n",
       "3  http://sharkattackfile.net/spreadsheets/pdf_di...    2016.09.17   \n",
       "4  http://sharkattackfile.net/spreadsheets/pdf_di...    2016.09.16   \n",
       "\n",
       "  Case Number.2 original order Unnamed: 22 Unnamed: 23  \n",
       "0  2016.09.18.c           5993         NaN         NaN  \n",
       "1  2016.09.18.b           5992         NaN         NaN  \n",
       "2  2016.09.18.a           5991         NaN         NaN  \n",
       "3    2016.09.17           5990         NaN         NaN  \n",
       "4    2016.09.15           5989         NaN         NaN  \n",
       "\n",
       "[5 rows x 24 columns]"
      ]
     },
     "execution_count": 2,
     "metadata": {},
     "output_type": "execute_result"
    }
   ],
   "source": [
    "rawData = pd.read_csv('GSAF5.csv', encoding = 'ISO-8859-1') # reading de csv file using pandas required using special encoding\n",
    "rawData.head() #shows firs 5 rows of data so we can determine disposable data"
   ]
  },
  {
   "cell_type": "markdown",
   "metadata": {},
   "source": [
    "### Droping columns\n",
    "Several columns can be droped from the data since they don't provide usefull information to reach any conclusions."
   ]
  },
  {
   "cell_type": "code",
   "execution_count": 3,
   "metadata": {},
   "outputs": [
    {
     "data": {
      "text/html": [
       "<div>\n",
       "<style scoped>\n",
       "    .dataframe tbody tr th:only-of-type {\n",
       "        vertical-align: middle;\n",
       "    }\n",
       "\n",
       "    .dataframe tbody tr th {\n",
       "        vertical-align: top;\n",
       "    }\n",
       "\n",
       "    .dataframe thead th {\n",
       "        text-align: right;\n",
       "    }\n",
       "</style>\n",
       "<table border=\"1\" class=\"dataframe\">\n",
       "  <thead>\n",
       "    <tr style=\"text-align: right;\">\n",
       "      <th></th>\n",
       "      <th>Date</th>\n",
       "      <th>Year</th>\n",
       "      <th>Type</th>\n",
       "      <th>Country</th>\n",
       "      <th>Area</th>\n",
       "      <th>Location</th>\n",
       "      <th>Activity</th>\n",
       "      <th>Name</th>\n",
       "      <th>Sex</th>\n",
       "      <th>Age</th>\n",
       "      <th>Injury</th>\n",
       "      <th>Fatal (Y/N)</th>\n",
       "      <th>Time</th>\n",
       "      <th>Species</th>\n",
       "      <th>Investigator or Source</th>\n",
       "    </tr>\n",
       "  </thead>\n",
       "  <tbody>\n",
       "    <tr>\n",
       "      <th>0</th>\n",
       "      <td>18-Sep-16</td>\n",
       "      <td>2016</td>\n",
       "      <td>Unprovoked</td>\n",
       "      <td>USA</td>\n",
       "      <td>Florida</td>\n",
       "      <td>New Smyrna Beach, Volusia County</td>\n",
       "      <td>Surfing</td>\n",
       "      <td>male</td>\n",
       "      <td>M</td>\n",
       "      <td>16</td>\n",
       "      <td>Minor injury to thigh</td>\n",
       "      <td>N</td>\n",
       "      <td>13h00</td>\n",
       "      <td>NaN</td>\n",
       "      <td>Orlando Sentinel, 9/19/2016</td>\n",
       "    </tr>\n",
       "    <tr>\n",
       "      <th>1</th>\n",
       "      <td>18-Sep-16</td>\n",
       "      <td>2016</td>\n",
       "      <td>Unprovoked</td>\n",
       "      <td>USA</td>\n",
       "      <td>Florida</td>\n",
       "      <td>New Smyrna Beach, Volusia County</td>\n",
       "      <td>Surfing</td>\n",
       "      <td>Chucky Luciano</td>\n",
       "      <td>M</td>\n",
       "      <td>36</td>\n",
       "      <td>Lacerations to hands</td>\n",
       "      <td>N</td>\n",
       "      <td>11h00</td>\n",
       "      <td>NaN</td>\n",
       "      <td>Orlando Sentinel, 9/19/2016</td>\n",
       "    </tr>\n",
       "    <tr>\n",
       "      <th>2</th>\n",
       "      <td>18-Sep-16</td>\n",
       "      <td>2016</td>\n",
       "      <td>Unprovoked</td>\n",
       "      <td>USA</td>\n",
       "      <td>Florida</td>\n",
       "      <td>New Smyrna Beach, Volusia County</td>\n",
       "      <td>Surfing</td>\n",
       "      <td>male</td>\n",
       "      <td>M</td>\n",
       "      <td>43</td>\n",
       "      <td>Lacerations to lower leg</td>\n",
       "      <td>N</td>\n",
       "      <td>10h43</td>\n",
       "      <td>NaN</td>\n",
       "      <td>Orlando Sentinel, 9/19/2016</td>\n",
       "    </tr>\n",
       "    <tr>\n",
       "      <th>3</th>\n",
       "      <td>17-Sep-16</td>\n",
       "      <td>2016</td>\n",
       "      <td>Unprovoked</td>\n",
       "      <td>AUSTRALIA</td>\n",
       "      <td>Victoria</td>\n",
       "      <td>Thirteenth Beach</td>\n",
       "      <td>Surfing</td>\n",
       "      <td>Rory Angiolella</td>\n",
       "      <td>M</td>\n",
       "      <td>NaN</td>\n",
       "      <td>Struck by fin on chest &amp; leg</td>\n",
       "      <td>N</td>\n",
       "      <td>NaN</td>\n",
       "      <td>NaN</td>\n",
       "      <td>The Age, 9/18/2016</td>\n",
       "    </tr>\n",
       "    <tr>\n",
       "      <th>4</th>\n",
       "      <td>16-Sep-16</td>\n",
       "      <td>2016</td>\n",
       "      <td>Unprovoked</td>\n",
       "      <td>AUSTRALIA</td>\n",
       "      <td>Victoria</td>\n",
       "      <td>Bells Beach</td>\n",
       "      <td>Surfing</td>\n",
       "      <td>male</td>\n",
       "      <td>M</td>\n",
       "      <td>NaN</td>\n",
       "      <td>No injury: Knocked off board by shark</td>\n",
       "      <td>N</td>\n",
       "      <td>NaN</td>\n",
       "      <td>2 m shark</td>\n",
       "      <td>The Age, 9/16/2016</td>\n",
       "    </tr>\n",
       "  </tbody>\n",
       "</table>\n",
       "</div>"
      ],
      "text/plain": [
       "        Date  Year        Type    Country      Area  \\\n",
       "0  18-Sep-16  2016  Unprovoked        USA   Florida   \n",
       "1  18-Sep-16  2016  Unprovoked        USA   Florida   \n",
       "2  18-Sep-16  2016  Unprovoked        USA   Florida   \n",
       "3  17-Sep-16  2016  Unprovoked  AUSTRALIA  Victoria   \n",
       "4  16-Sep-16  2016  Unprovoked  AUSTRALIA  Victoria   \n",
       "\n",
       "                           Location Activity             Name Sex   Age  \\\n",
       "0  New Smyrna Beach, Volusia County  Surfing             male    M   16   \n",
       "1  New Smyrna Beach, Volusia County  Surfing   Chucky Luciano    M   36   \n",
       "2  New Smyrna Beach, Volusia County  Surfing             male    M   43   \n",
       "3                  Thirteenth Beach  Surfing  Rory Angiolella    M  NaN   \n",
       "4                       Bells Beach  Surfing             male    M  NaN   \n",
       "\n",
       "                                  Injury Fatal (Y/N)   Time   Species   \\\n",
       "0                  Minor injury to thigh           N  13h00        NaN   \n",
       "1                   Lacerations to hands           N  11h00        NaN   \n",
       "2               Lacerations to lower leg           N  10h43        NaN   \n",
       "3           Struck by fin on chest & leg           N    NaN        NaN   \n",
       "4  No injury: Knocked off board by shark           N    NaN  2 m shark   \n",
       "\n",
       "        Investigator or Source  \n",
       "0  Orlando Sentinel, 9/19/2016  \n",
       "1  Orlando Sentinel, 9/19/2016  \n",
       "2  Orlando Sentinel, 9/19/2016  \n",
       "3           The Age, 9/18/2016  \n",
       "4           The Age, 9/16/2016  "
      ]
     },
     "execution_count": 3,
     "metadata": {},
     "output_type": "execute_result"
    }
   ],
   "source": [
    "data = rawData.drop(['Case Number', 'pdf', 'href formula', 'href', 'Case Number.1', 'Case Number.2', 'original order', 'Unnamed: 22', 'Unnamed: 23'], axis = 1)\n",
    "data.head()"
   ]
  },
  {
   "cell_type": "markdown",
   "metadata": {},
   "source": [
    "With the new \"data\" data frame it's easier to analize the usable information and decide an objective that can be tested with the available data.\n",
    "\n",
    "## Objective:\n",
    "\n",
    "Given the available data, it is interesting to see if there is a relation between tha fatlity of the attacks and the activity that the victim was doing.  A conclusion could be reached identifying the higher risk activities related to shark attacks."
   ]
  },
  {
   "cell_type": "markdown",
   "metadata": {},
   "source": [
    "### Data Cleaning\n",
    "\n",
    "Now that we have a clear objective to reach we can start by droping data that isn't relevant to our objective.\n",
    "\n",
    "In an initial visual inspection of the head of the data frame it is evident that \"Age\" & \"Species\" columns are missing data.  Further analisis searching for missing values is in order."
   ]
  },
  {
   "cell_type": "code",
   "execution_count": 4,
   "metadata": {},
   "outputs": [
    {
     "name": "stdout",
     "output_type": "stream",
     "text": [
      "Country                     43\n",
      "Area                       402\n",
      "Location                   496\n",
      "Activity                   527\n",
      "Name                       200\n",
      "Sex                        567\n",
      "Age                       2681\n",
      "Injury                      27\n",
      "Fatal (Y/N)                 19\n",
      "Time                      3213\n",
      "Species                   2934\n",
      "Investigator or Source      15\n",
      "dtype: int64\n",
      "Data entrys: 5991\n"
     ]
    }
   ],
   "source": [
    "null_cols = data.isnull().sum()\n",
    "print(null_cols[null_cols > 0])\n",
    "print('Data entrys: {}'.format(len(data.index)-1))"
   ]
  },
  {
   "cell_type": "markdown",
   "metadata": {},
   "source": [
    "\"Age\", \"Time\" and \"Species\" have a significant ammount of null data.  These columns can be deleted since over half the entrys are empty.\n",
    "\n",
    "A limit of 1000 empty cells is selected.  If the data  column has more than 1000 empty cells (17%) it is deleted."
   ]
  },
  {
   "cell_type": "markdown",
   "metadata": {},
   "source": [
    "From observing the first rows of the remaining data, we can see that the \"Name\" column has currupt data (male as name), and since the individual name of the victim is of no interest to us, we can delete the column.\n",
    "\n",
    "The column \"Injury\" has a very specific discription of the victim's injury.  This type of data is hard to cuantify and the result of the injury can be found on the \"Fatal\" column, so we can delete this column too since it has little relevante informatin towards our objective.\n",
    "\n",
    "The \"Investigator or Source\" column can be deleted since we have decided to trust all the data from the data set ignoring its origin."
   ]
  },
  {
   "cell_type": "code",
   "execution_count": 5,
   "metadata": {},
   "outputs": [
    {
     "data": {
      "text/html": [
       "<div>\n",
       "<style scoped>\n",
       "    .dataframe tbody tr th:only-of-type {\n",
       "        vertical-align: middle;\n",
       "    }\n",
       "\n",
       "    .dataframe tbody tr th {\n",
       "        vertical-align: top;\n",
       "    }\n",
       "\n",
       "    .dataframe thead th {\n",
       "        text-align: right;\n",
       "    }\n",
       "</style>\n",
       "<table border=\"1\" class=\"dataframe\">\n",
       "  <thead>\n",
       "    <tr style=\"text-align: right;\">\n",
       "      <th></th>\n",
       "      <th>Date</th>\n",
       "      <th>Year</th>\n",
       "      <th>Type</th>\n",
       "      <th>Country</th>\n",
       "      <th>Area</th>\n",
       "      <th>Location</th>\n",
       "      <th>Activity</th>\n",
       "      <th>Sex</th>\n",
       "      <th>Fatal (Y/N)</th>\n",
       "    </tr>\n",
       "  </thead>\n",
       "  <tbody>\n",
       "    <tr>\n",
       "      <th>0</th>\n",
       "      <td>18-Sep-16</td>\n",
       "      <td>2016</td>\n",
       "      <td>Unprovoked</td>\n",
       "      <td>USA</td>\n",
       "      <td>Florida</td>\n",
       "      <td>New Smyrna Beach, Volusia County</td>\n",
       "      <td>Surfing</td>\n",
       "      <td>M</td>\n",
       "      <td>N</td>\n",
       "    </tr>\n",
       "    <tr>\n",
       "      <th>1</th>\n",
       "      <td>18-Sep-16</td>\n",
       "      <td>2016</td>\n",
       "      <td>Unprovoked</td>\n",
       "      <td>USA</td>\n",
       "      <td>Florida</td>\n",
       "      <td>New Smyrna Beach, Volusia County</td>\n",
       "      <td>Surfing</td>\n",
       "      <td>M</td>\n",
       "      <td>N</td>\n",
       "    </tr>\n",
       "    <tr>\n",
       "      <th>2</th>\n",
       "      <td>18-Sep-16</td>\n",
       "      <td>2016</td>\n",
       "      <td>Unprovoked</td>\n",
       "      <td>USA</td>\n",
       "      <td>Florida</td>\n",
       "      <td>New Smyrna Beach, Volusia County</td>\n",
       "      <td>Surfing</td>\n",
       "      <td>M</td>\n",
       "      <td>N</td>\n",
       "    </tr>\n",
       "    <tr>\n",
       "      <th>3</th>\n",
       "      <td>17-Sep-16</td>\n",
       "      <td>2016</td>\n",
       "      <td>Unprovoked</td>\n",
       "      <td>AUSTRALIA</td>\n",
       "      <td>Victoria</td>\n",
       "      <td>Thirteenth Beach</td>\n",
       "      <td>Surfing</td>\n",
       "      <td>M</td>\n",
       "      <td>N</td>\n",
       "    </tr>\n",
       "    <tr>\n",
       "      <th>4</th>\n",
       "      <td>16-Sep-16</td>\n",
       "      <td>2016</td>\n",
       "      <td>Unprovoked</td>\n",
       "      <td>AUSTRALIA</td>\n",
       "      <td>Victoria</td>\n",
       "      <td>Bells Beach</td>\n",
       "      <td>Surfing</td>\n",
       "      <td>M</td>\n",
       "      <td>N</td>\n",
       "    </tr>\n",
       "  </tbody>\n",
       "</table>\n",
       "</div>"
      ],
      "text/plain": [
       "        Date  Year        Type    Country      Area  \\\n",
       "0  18-Sep-16  2016  Unprovoked        USA   Florida   \n",
       "1  18-Sep-16  2016  Unprovoked        USA   Florida   \n",
       "2  18-Sep-16  2016  Unprovoked        USA   Florida   \n",
       "3  17-Sep-16  2016  Unprovoked  AUSTRALIA  Victoria   \n",
       "4  16-Sep-16  2016  Unprovoked  AUSTRALIA  Victoria   \n",
       "\n",
       "                           Location Activity Sex  Fatal (Y/N)  \n",
       "0  New Smyrna Beach, Volusia County  Surfing    M           N  \n",
       "1  New Smyrna Beach, Volusia County  Surfing    M           N  \n",
       "2  New Smyrna Beach, Volusia County  Surfing    M           N  \n",
       "3                  Thirteenth Beach  Surfing    M           N  \n",
       "4                       Bells Beach  Surfing    M           N  "
      ]
     },
     "execution_count": 5,
     "metadata": {},
     "output_type": "execute_result"
    }
   ],
   "source": [
    "drop_cols = list(null_cols[null_cols > 1000].index)\n",
    "data = data.drop(drop_cols, axis=1)\n",
    "data = data.drop(['Name' ,'Injury', 'Investigator or Source'], axis = 1)\n",
    "\n",
    "data.head()"
   ]
  },
  {
   "cell_type": "markdown",
   "metadata": {},
   "source": [
    "All the empty cells are going to be relaced with the text \"Unknown\""
   ]
  },
  {
   "cell_type": "code",
   "execution_count": 6,
   "metadata": {},
   "outputs": [
    {
     "name": "stdout",
     "output_type": "stream",
     "text": [
      "Series([], dtype: int64)\n"
     ]
    }
   ],
   "source": [
    "data.fillna('Unknown', inplace = True) #replace all NaN values to \"Unknown\"\n",
    "null_cols = data.isnull().sum()\n",
    "print(null_cols[null_cols > 0]) #check if all NaN values have been replaced with \"Unknown\"\n"
   ]
  },
  {
   "cell_type": "markdown",
   "metadata": {},
   "source": [
    "The core focus of the investigation is ACTIVITY, so a deeper analysis is in order.  Counting all the different inputs of the Activity column can give insight on the next step."
   ]
  },
  {
   "cell_type": "code",
   "execution_count": 7,
   "metadata": {},
   "outputs": [
    {
     "data": {
      "text/plain": [
       "Surfing                                                                               904\n",
       "Swimming                                                                              819\n",
       "Unknown                                                                               530\n",
       "Fishing                                                                               414\n",
       "Spearfishing                                                                          321\n",
       "Bathing                                                                               153\n",
       "Wading                                                                                144\n",
       "Diving                                                                                123\n",
       "Standing                                                                               97\n",
       "Snorkeling                                                                             77\n",
       "Scuba diving                                                                           74\n",
       "Body boarding                                                                          54\n",
       "Body surfing                                                                           48\n",
       "Swimming                                                                               47\n",
       "Pearl diving                                                                           32\n",
       "Treading water                                                                         32\n",
       "Boogie boarding                                                                        28\n",
       "Kayaking                                                                               28\n",
       "Free diving                                                                            26\n",
       "Fell overboard                                                                         21\n",
       "Windsurfing                                                                            18\n",
       "Boogie Boarding                                                                        16\n",
       "Shark fishing                                                                          15\n",
       "Walking                                                                                15\n",
       "Surf-skiing                                                                            12\n",
       "Canoeing                                                                               12\n",
       "Rowing                                                                                 12\n",
       "Floating                                                                               12\n",
       "Surf skiing                                                                            12\n",
       "Fishing                                                                                12\n",
       "                                                                                     ... \n",
       "Fishing, stepped on hooked shark's head                                                 1\n",
       "Fishing, tossing netted shark onboard                                                   1\n",
       "Wading / fishing & carrying a bag of fish                                               1\n",
       "Watching seals                                                                          1\n",
       "Windsurfing (urinating on his board)                                                    1\n",
       "Scuba diving at seal colony                                                             1\n",
       "Free diving for sinkers                                                                 1\n",
       "Oystering                                                                               1\n",
       "C47 aircraft carrying 5,000 lbs of ice ditched in the sea                               1\n",
       "Swimming & snorkeling                                                                   1\n",
       "Swimming ashore from fishing boat swamped and sunk by a squall                          1\n",
       "Floating, after falling or jumping off the Standard Oil tanker Frederick W. Weller      1\n",
       "Body surfing, stood up on sandbar                                                       1\n",
       "Scurfing (surfboard being  towed behind a boat)                                         1\n",
       "Bathing in water 0.9 m deep                                                             1\n",
       "Diving for sand dollars                                                                 1\n",
       "Attempting to rescue drowning man                                                       1\n",
       "Swimming around anchored ship                                                           1\n",
       "Spearfishing, Scuba diving                                                              1\n",
       "Diving for sea urchins                                                                  1\n",
       "Rowing an inflatable dinghy                                                             1\n",
       "Diving for beche-de-mer from lugger                                                     1\n",
       "Treading water, waiting for a wave                                                      1\n",
       "Touching sharks                                                                         1\n",
       "Swimming between  anchored  pearling luggers                                            1\n",
       "Dived into a school of baitfish                                                         1\n",
       "On board 51' fishing vessel One Ki                                                      1\n",
       "Sailing on catamaran & fell into the water                                              1\n",
       "Killing  sharks                                                                         1\n",
       "Catching a turtle                                                                       1\n",
       "Name: Activity, Length: 1492, dtype: int64"
      ]
     },
     "execution_count": 7,
     "metadata": {},
     "output_type": "execute_result"
    }
   ],
   "source": [
    "data.Activity.value_counts() #Display Activity entrys for visual analisis"
   ]
  },
  {
   "cell_type": "markdown",
   "metadata": {},
   "source": [
    "By inspecting all the entrys in activity, it is evident that some activities can be grouped in larger activity types such as Surfing, Swiming, Diving, etc.  "
   ]
  },
  {
   "cell_type": "code",
   "execution_count": 8,
   "metadata": {},
   "outputs": [
    {
     "name": "stderr",
     "output_type": "stream",
     "text": [
      "C:\\Users\\Martin\\Anaconda3\\lib\\site-packages\\pandas\\core\\indexing.py:189: SettingWithCopyWarning: \n",
      "A value is trying to be set on a copy of a slice from a DataFrame\n",
      "\n",
      "See the caveats in the documentation: http://pandas.pydata.org/pandas-docs/stable/indexing.html#indexing-view-versus-copy\n",
      "  self._setitem_with_indexer(indexer, value)\n"
     ]
    },
    {
     "data": {
      "text/plain": [
       "Surfing                                                                                                                                                      1185\n",
       "Swimming                                                                                                                                                     1095\n",
       "Fishing                                                                                                                                                      1094\n",
       "Unknown                                                                                                                                                       530\n",
       "Diving                                                                                                                                                        502\n",
       "Bathing                                                                                                                                                       483\n",
       "Boarding                                                                                                                                                      235\n",
       "Snorkeling                                                                                                                                                     77\n",
       "Canoeing                                                                                                                                                       66\n",
       "Sailing                                                                                                                                                        35\n",
       "Fell into the water                                                                                                                                             8\n",
       "Sea disaster                                                                                                                                                    8\n",
       "Playing                                                                                                                                                         7\n",
       "Murder                                                                                                                                                          6\n",
       "Sea Disaster                                                                                                                                                    6\n",
       "Paddleskiing                                                                                                                                                    5\n",
       "Dangling feet in the water                                                                                                                                      5\n",
       "Shipwreck                                                                                                                                                       5\n",
       "Seine netting                                                                                                                                                   4\n",
       "Jumping                                                                                                                                                         4\n",
       "Jumped into the water                                                                                                                                           4\n",
       "Splashing                                                                                                                                                       4\n",
       "Clamming                                                                                                                                                        4\n",
       "Lifesaving drill                                                                                                                                                4\n",
       "Escaping from Alacatraz                                                                                                                                         3\n",
       "Tagging sharks                                                                                                                                                  3\n",
       "Spearing fish                                                                                                                                                   3\n",
       "Wreck of the schooner Pohoiki                                                                                                                                   3\n",
       "Their 9 m launch was run down by a 25,000-ton Japanese freighter  on the night of 3-11-1977 & they drifted, clinging to an icebox for 2 days                    3\n",
       "Sculling                                                                                                                                                        3\n",
       "                                                                                                                                                             ... \n",
       "Canoe capsized by shark                                                                                                                                         1\n",
       "Photographing the shark                                                                                                                                         1\n",
       "Attempting to free the shark                                                                                                                                    1\n",
       "B-24 crashed during a search mission. Survivors in raft for 47 days                                                                                             1\n",
       "Landing hooked shark in boat                                                                                                                                    1\n",
       "The British steamer Caribbee foundered                                                                                                                          1\n",
       "Cleaning a tank                                                                                                                                                 1\n",
       "male                                                                                                                                                            1\n",
       "Finning the shark                                                                                                                                               1\n",
       "Paddling rescue ski                                                                                                                                             1\n",
       "Royal Hawaiian skymaster DC-6B aircraft went down with  58 passenger & crew                                                                                     1\n",
       "Measuring sharks                                                                                                                                                1\n",
       "Hauling in net with shark in it                                                                                                                                 1\n",
       "HMS Victoria collided with the HMS Camperdown                                                                                                                   1\n",
       "The cutter Francis Adams foundered                                                                                                                              1\n",
       "A 210-ton brig was sunk by a Japanese submarine. Some of the survivors were machine-gunned & some were taken by sharks                                          1\n",
       "Days before the surrender of Singapore, the 3 men escaped to Sumatra where they acquired a 17' dinghy. After 125 days at sea they drifted back to Sumatra       1\n",
       "The troopship Britannia was sunk by the German raider Thor                                                                                                      1\n",
       "Rescuing seaman after ship sunk by German raider                                                                                                                1\n",
       "Sea Disaster : Wreck of the Carrie E. Long                                                                                                                      1\n",
       "12 of the Penang's crew were returning to the ship when their 12' dinghy capsized                                                                               1\n",
       "Put foot inside mouth of supposedly dead shark                                                                                                                  1\n",
       "boat capsized during filming                                                                                                                                    1\n",
       "Washed into sea while picking opihi                                                                                                                             1\n",
       "Plane crashed in water, men in life raft                                                                                                                        1\n",
       "In boat being towed by ship, Karnak                                                                                                                             1\n",
       "Ascending from a dive                                                                                                                                           1\n",
       "British cruiser Dunedin torpedoed & sunk by the U-124                                                                                                           1\n",
       "Playing volleyball with friends                                                                                                                                 1\n",
       "Catching crabs                                                                                                                                                  1\n",
       "Name: Activity, Length: 588, dtype: int64"
      ]
     },
     "execution_count": 8,
     "metadata": {},
     "output_type": "execute_result"
    }
   ],
   "source": [
    "\n",
    "data['Activity'].loc[data['Activity'].str.contains('Surf') ] = 'Surfing' # Change all activities that contain 'surf' into 'Surfing\n",
    "data['Activity'].loc[data['Activity'].str.contains('surf') ] = 'Surfing' # Change all activities that contain 'surf' into 'Surfing'\n",
    "data['Activity'].loc[data['Activity'].str.contains('Swim') ] = 'Swimming' # Change all activities that contain 'surf' into 'Surfing'\n",
    "data['Activity'].loc[data['Activity'].str.contains('swim') ] = 'Swimming' # Change all activities that contain 'surf' into 'Surfing'\n",
    "data['Activity'].loc[data['Activity'].str.contains('fishing') ] = 'Fishing' # Change all activities that contain 'surf' into 'Surfing'\n",
    "data['Activity'].loc[data['Activity'].str.contains('Fishing') ] = 'Fishing' # Change all activities that contain 'surf' into 'Surfing'\n",
    "data['Activity'].loc[data['Activity'].str.contains('Dive') ] = 'Diving' # Change all activities that contain 'surf' into 'Surfing'\n",
    "data['Activity'].loc[data['Activity'].str.contains('Diving') ] = 'Diving' # Change all activities that contain 'surf' into 'Surfing'\n",
    "data['Activity'].loc[data['Activity'].str.contains('diving') ] = 'Diving' # Change all activities that contain 'surf' into 'Surfing'\n",
    "data['Activity'].loc[data['Activity'].str.contains('board') ] = 'Boarding' # Change all activities that contain 'surf' into 'Surfing'\n",
    "data['Activity'].loc[data['Activity'].str.contains('Board') ] = 'Boarding' # Change all activities that contain 'surf' into 'Surfing'\n",
    "data['Activity'].loc[data['Activity'].str.contains('Wading') ] = 'Bathing' # Change all activities that contain 'surf' into 'Surfing'\n",
    "data['Activity'].loc[data['Activity'].str.contains('Standing') ] = 'Bathing' # Change all activities that contain 'surf' into 'Surfing'\n",
    "data['Activity'].loc[data['Activity'].str.contains('Walking') ] = 'Bathing' # Change all activities that contain 'surf' into 'Surfing'\n",
    "data['Activity'].loc[data['Activity'].str.contains('Treading') ] = 'Bathing' # Change all activities that contain 'surf' into 'Surfing'\n",
    "data['Activity'].loc[data['Activity'].str.contains('Kayak') ] = 'Canoeing' # Change all activities that contain 'surf' into 'Surfing'\n",
    "data['Activity'].loc[data['Activity'].str.contains('Float') ] = 'Swimming' # Change all activities that contain 'surf' into 'Surfing'\n",
    "data['Activity'].loc[data['Activity'].str.contains('Row') ] = 'Canoeing' # Change all activities that contain 'surf' into 'Surfing'\n",
    "data['Activity'].loc[data['Activity'].str.contains('Boat') ] = 'Sailing' # Change all activities that contain 'surf' into 'Surfing'\n",
    "\n",
    "data.Activity.value_counts()\n"
   ]
  },
  {
   "cell_type": "markdown",
   "metadata": {},
   "source": [
    "We can also see that many of the Activity entrys are unique, so we can group all those instances in a category called \"Other\"\n",
    "\n",
    "Every entry that is repeated less than 10 times (0.17 %) is dumped in the \"Other\" category."
   ]
  },
  {
   "cell_type": "code",
   "execution_count": 9,
   "metadata": {},
   "outputs": [
    {
     "data": {
      "text/plain": [
       "Surfing       1185\n",
       "Swimming      1095\n",
       "Fishing       1094\n",
       "Other          690\n",
       "Unknown        530\n",
       "Diving         502\n",
       "Bathing        483\n",
       "Boarding       235\n",
       "Snorkeling      77\n",
       "Canoeing        66\n",
       "Sailing         35\n",
       "Name: Activity, dtype: int64"
      ]
     },
     "execution_count": 9,
     "metadata": {},
     "output_type": "execute_result"
    }
   ],
   "source": [
    "data['Activity'] = data['Activity'].where((data['Activity'] == 'Surfing') | \n",
    "                                          (data['Activity'] == 'Swimming') | \n",
    "                                          (data['Activity'] == 'Fishing') |\n",
    "                                          (data['Activity'] == 'Diving') |\n",
    "                                          (data['Activity'] == 'Unknown') |\n",
    "                                          (data['Activity'] == 'Bathing') |\n",
    "                                          (data['Activity'] == 'Boarding') |\n",
    "                                          (data['Activity'] == 'Snorkeling') |\n",
    "                                          (data['Activity'] == 'Canoeing') |\n",
    "                                          (data['Activity'] == 'Sailing'), 'Other' )\n",
    "data.Activity.value_counts()\n"
   ]
  },
  {
   "cell_type": "markdown",
   "metadata": {},
   "source": [
    "After grouping the Activities, we can move into other columns to correct."
   ]
  },
  {
   "cell_type": "code",
   "execution_count": 10,
   "metadata": {},
   "outputs": [
    {
     "data": {
      "text/plain": [
       "M          4835\n",
       "F           585\n",
       "Unknown     567\n",
       "M             2\n",
       ".             1\n",
       "N             1\n",
       "lli           1\n",
       "Name: Sex, dtype: int64"
      ]
     },
     "execution_count": 10,
     "metadata": {},
     "output_type": "execute_result"
    }
   ],
   "source": [
    "data.rename(columns={'Sex ':'Sex'}, inplace=True)\n",
    "data.Sex.value_counts()"
   ]
  },
  {
   "cell_type": "code",
   "execution_count": 11,
   "metadata": {},
   "outputs": [
    {
     "data": {
      "text/plain": [
       "M          4838\n",
       "F           585\n",
       "Unknown     569\n",
       "Name: Sex, dtype: int64"
      ]
     },
     "execution_count": 11,
     "metadata": {},
     "output_type": "execute_result"
    }
   ],
   "source": [
    "data['Sex'] = data['Sex'].str.replace('M ', 'M')\n",
    "data['Sex'] = data['Sex'].str.replace('N', 'M')\n",
    "data['Sex'] = data['Sex'].str.replace('lli', 'Unknown')\n",
    "data['Sex'] = data['Sex'].str.replace('.', 'Unknown')\n",
    "data.Sex.value_counts()"
   ]
  },
  {
   "cell_type": "code",
   "execution_count": 12,
   "metadata": {},
   "outputs": [
    {
     "data": {
      "text/plain": [
       "N          4315\n",
       "Y          1552\n",
       "UNKNOWN      94\n",
       "Unknown      19\n",
       " N            8\n",
       "F             1\n",
       "N             1\n",
       "n             1\n",
       "#VALUE!       1\n",
       "Name: Fatal, dtype: int64"
      ]
     },
     "execution_count": 12,
     "metadata": {},
     "output_type": "execute_result"
    }
   ],
   "source": [
    "data.rename(columns={'Fatal (Y/N)':'Fatal'}, inplace=True)\n",
    "data.Fatal.value_counts()"
   ]
  },
  {
   "cell_type": "code",
   "execution_count": 13,
   "metadata": {},
   "outputs": [
    {
     "data": {
      "text/plain": [
       "N          4325\n",
       "Y          1552\n",
       "UNKNOWN      94\n",
       "UNkNowN      19\n",
       "F             1\n",
       "#VALUE!       1\n",
       "Name: Fatal, dtype: int64"
      ]
     },
     "execution_count": 13,
     "metadata": {},
     "output_type": "execute_result"
    }
   ],
   "source": [
    "data['Fatal'] = data['Fatal'].str.replace(' N', 'N')\n",
    "data['Fatal'] = data['Fatal'].str.replace('n', 'N')\n",
    "data['Fatal'] = data['Fatal'].str.replace('N ', 'N')\n",
    "data.Fatal.value_counts()"
   ]
  },
  {
   "cell_type": "code",
   "execution_count": 14,
   "metadata": {},
   "outputs": [
    {
     "data": {
      "text/plain": [
       "N          4325\n",
       "Y          1553\n",
       "Unknown     114\n",
       "Name: Fatal, dtype: int64"
      ]
     },
     "execution_count": 14,
     "metadata": {},
     "output_type": "execute_result"
    }
   ],
   "source": [
    "data['Fatal'] = data['Fatal'].str.replace('UNKNOWN', 'Unknown')\n",
    "data['Fatal'] = data['Fatal'].str.replace('#VALUE!', 'Unknown')\n",
    "data['Fatal'] = data['Fatal'].str.replace('F', 'Y')\n",
    "data['Fatal'] = data['Fatal'].str.replace('UNkNowN', 'Unknown')\n",
    "data.Fatal.value_counts()"
   ]
  },
  {
   "cell_type": "code",
   "execution_count": 15,
   "metadata": {},
   "outputs": [
    {
     "data": {
      "text/plain": [
       "Unprovoked      4386\n",
       "Provoked         557\n",
       "Invalid          519\n",
       "Sea Disaster     220\n",
       "Boat             200\n",
       "Boating          110\n",
       "Name: Type, dtype: int64"
      ]
     },
     "execution_count": 15,
     "metadata": {},
     "output_type": "execute_result"
    }
   ],
   "source": [
    "\n",
    "data.Type.value_counts()"
   ]
  },
  {
   "cell_type": "code",
   "execution_count": 16,
   "metadata": {},
   "outputs": [
    {
     "data": {
      "text/plain": [
       "Unprovoked      4386\n",
       "Provoked         557\n",
       "Invalid          519\n",
       "Boat             310\n",
       "Sea Disaster     220\n",
       "Name: Type, dtype: int64"
      ]
     },
     "execution_count": 16,
     "metadata": {},
     "output_type": "execute_result"
    }
   ],
   "source": [
    "data['Type'] = data['Type'].str.replace('Boating', 'Boat')\n",
    "data.Type.value_counts()"
   ]
  },
  {
   "cell_type": "code",
   "execution_count": 17,
   "metadata": {},
   "outputs": [
    {
     "data": {
      "text/plain": [
       "2015    139\n",
       "2011    128\n",
       "2014    125\n",
       "0       124\n",
       "2013    122\n",
       "2008    121\n",
       "2009    120\n",
       "2012    117\n",
       "2007    112\n",
       "2006    103\n",
       "2016    103\n",
       "2005    103\n",
       "2010    101\n",
       "2000     97\n",
       "1959     93\n",
       "1960     93\n",
       "2001     92\n",
       "2004     92\n",
       "2003     92\n",
       "2002     88\n",
       "1962     86\n",
       "1961     78\n",
       "1995     76\n",
       "1964     66\n",
       "1998     65\n",
       "1999     65\n",
       "1996     61\n",
       "1963     61\n",
       "1966     58\n",
       "1997     57\n",
       "       ... \n",
       "1785      1\n",
       "1834      1\n",
       "1791      1\n",
       "1733      1\n",
       "1721      1\n",
       "1637      1\n",
       "1617      1\n",
       "77        1\n",
       "5         1\n",
       "1703      1\n",
       "1755      1\n",
       "1767      1\n",
       "1771      1\n",
       "1779      1\n",
       "1787      1\n",
       "1803      1\n",
       "1749      1\n",
       "1807      1\n",
       "1811      1\n",
       "1819      1\n",
       "1805      1\n",
       "1831      1\n",
       "1555      1\n",
       "1738      1\n",
       "1859      1\n",
       "1742      1\n",
       "1758      1\n",
       "1818      1\n",
       "1822      1\n",
       "1595      1\n",
       "Name: Year, Length: 232, dtype: int64"
      ]
     },
     "execution_count": 17,
     "metadata": {},
     "output_type": "execute_result"
    }
   ],
   "source": [
    "data.Year.value_counts()"
   ]
  },
  {
   "cell_type": "code",
   "execution_count": 18,
   "metadata": {},
   "outputs": [
    {
     "data": {
      "text/plain": [
       "2015    139\n",
       "2011    128\n",
       "0       127\n",
       "2014    125\n",
       "2013    122\n",
       "2008    121\n",
       "2009    120\n",
       "2012    117\n",
       "2007    112\n",
       "2016    103\n",
       "2005    103\n",
       "2006    103\n",
       "2010    101\n",
       "2000     97\n",
       "1960     93\n",
       "1959     93\n",
       "2004     92\n",
       "2001     92\n",
       "2003     92\n",
       "2002     88\n",
       "1962     86\n",
       "1961     78\n",
       "1995     76\n",
       "1964     66\n",
       "1999     65\n",
       "1998     65\n",
       "1963     61\n",
       "1996     61\n",
       "1966     58\n",
       "1997     57\n",
       "       ... \n",
       "1554      1\n",
       "1738      1\n",
       "1742      1\n",
       "1818      1\n",
       "1755      1\n",
       "1822      1\n",
       "1834      1\n",
       "1846      1\n",
       "1850      1\n",
       "1854      1\n",
       "1866      1\n",
       "1703      1\n",
       "1767      1\n",
       "1831      1\n",
       "1805      1\n",
       "1617      1\n",
       "1637      1\n",
       "1721      1\n",
       "1733      1\n",
       "1749      1\n",
       "1785      1\n",
       "1819      1\n",
       "1771      1\n",
       "1811      1\n",
       "1807      1\n",
       "1803      1\n",
       "1791      1\n",
       "1787      1\n",
       "1779      1\n",
       "1638      1\n",
       "Name: Year, Length: 229, dtype: int64"
      ]
     },
     "execution_count": 18,
     "metadata": {},
     "output_type": "execute_result"
    }
   ],
   "source": [
    "data['Year'] = data['Year'].where(data['Year'] > 999, 0)  # unknown = 0 to keep type = int\n",
    "data.Year.value_counts()"
   ]
  },
  {
   "cell_type": "markdown",
   "metadata": {},
   "source": [
    "Since the specific date of the incident doesn't provide much insight to our objective, we have decided to dop the column.\n"
   ]
  },
  {
   "cell_type": "code",
   "execution_count": 19,
   "metadata": {},
   "outputs": [],
   "source": [
    "data = data.drop('Date', axis = 1)"
   ]
  },
  {
   "cell_type": "markdown",
   "metadata": {},
   "source": [
    "After cleaning the relevant Columns we show the head of the data frame to see the results"
   ]
  },
  {
   "cell_type": "code",
   "execution_count": 20,
   "metadata": {},
   "outputs": [
    {
     "data": {
      "text/html": [
       "<div>\n",
       "<style scoped>\n",
       "    .dataframe tbody tr th:only-of-type {\n",
       "        vertical-align: middle;\n",
       "    }\n",
       "\n",
       "    .dataframe tbody tr th {\n",
       "        vertical-align: top;\n",
       "    }\n",
       "\n",
       "    .dataframe thead th {\n",
       "        text-align: right;\n",
       "    }\n",
       "</style>\n",
       "<table border=\"1\" class=\"dataframe\">\n",
       "  <thead>\n",
       "    <tr style=\"text-align: right;\">\n",
       "      <th></th>\n",
       "      <th>Year</th>\n",
       "      <th>Type</th>\n",
       "      <th>Country</th>\n",
       "      <th>Area</th>\n",
       "      <th>Location</th>\n",
       "      <th>Activity</th>\n",
       "      <th>Sex</th>\n",
       "      <th>Fatal</th>\n",
       "    </tr>\n",
       "  </thead>\n",
       "  <tbody>\n",
       "    <tr>\n",
       "      <th>0</th>\n",
       "      <td>2016</td>\n",
       "      <td>Unprovoked</td>\n",
       "      <td>USA</td>\n",
       "      <td>Florida</td>\n",
       "      <td>New Smyrna Beach, Volusia County</td>\n",
       "      <td>Surfing</td>\n",
       "      <td>M</td>\n",
       "      <td>N</td>\n",
       "    </tr>\n",
       "    <tr>\n",
       "      <th>1</th>\n",
       "      <td>2016</td>\n",
       "      <td>Unprovoked</td>\n",
       "      <td>USA</td>\n",
       "      <td>Florida</td>\n",
       "      <td>New Smyrna Beach, Volusia County</td>\n",
       "      <td>Surfing</td>\n",
       "      <td>M</td>\n",
       "      <td>N</td>\n",
       "    </tr>\n",
       "    <tr>\n",
       "      <th>2</th>\n",
       "      <td>2016</td>\n",
       "      <td>Unprovoked</td>\n",
       "      <td>USA</td>\n",
       "      <td>Florida</td>\n",
       "      <td>New Smyrna Beach, Volusia County</td>\n",
       "      <td>Surfing</td>\n",
       "      <td>M</td>\n",
       "      <td>N</td>\n",
       "    </tr>\n",
       "    <tr>\n",
       "      <th>3</th>\n",
       "      <td>2016</td>\n",
       "      <td>Unprovoked</td>\n",
       "      <td>AUSTRALIA</td>\n",
       "      <td>Victoria</td>\n",
       "      <td>Thirteenth Beach</td>\n",
       "      <td>Surfing</td>\n",
       "      <td>M</td>\n",
       "      <td>N</td>\n",
       "    </tr>\n",
       "    <tr>\n",
       "      <th>4</th>\n",
       "      <td>2016</td>\n",
       "      <td>Unprovoked</td>\n",
       "      <td>AUSTRALIA</td>\n",
       "      <td>Victoria</td>\n",
       "      <td>Bells Beach</td>\n",
       "      <td>Surfing</td>\n",
       "      <td>M</td>\n",
       "      <td>N</td>\n",
       "    </tr>\n",
       "  </tbody>\n",
       "</table>\n",
       "</div>"
      ],
      "text/plain": [
       "   Year        Type    Country      Area                          Location  \\\n",
       "0  2016  Unprovoked        USA   Florida  New Smyrna Beach, Volusia County   \n",
       "1  2016  Unprovoked        USA   Florida  New Smyrna Beach, Volusia County   \n",
       "2  2016  Unprovoked        USA   Florida  New Smyrna Beach, Volusia County   \n",
       "3  2016  Unprovoked  AUSTRALIA  Victoria                  Thirteenth Beach   \n",
       "4  2016  Unprovoked  AUSTRALIA  Victoria                       Bells Beach   \n",
       "\n",
       "  Activity Sex Fatal  \n",
       "0  Surfing   M     N  \n",
       "1  Surfing   M     N  \n",
       "2  Surfing   M     N  \n",
       "3  Surfing   M     N  \n",
       "4  Surfing   M     N  "
      ]
     },
     "execution_count": 20,
     "metadata": {},
     "output_type": "execute_result"
    }
   ],
   "source": [
    "data.head()"
   ]
  },
  {
   "cell_type": "markdown",
   "metadata": {},
   "source": [
    "The first three values are duplicates after the data cleaning.  So droping duplicates is a good idea at this point."
   ]
  },
  {
   "cell_type": "code",
   "execution_count": 21,
   "metadata": {},
   "outputs": [
    {
     "name": "stdout",
     "output_type": "stream",
     "text": [
      "Number of duplicate records dropped:  205\n"
     ]
    }
   ],
   "source": [
    "before = len(data)\n",
    "data = data.drop_duplicates()\n",
    "after = len(data)\n",
    "print('Number of duplicate records dropped: ', str(before - after))"
   ]
  },
  {
   "cell_type": "code",
   "execution_count": 22,
   "metadata": {},
   "outputs": [
    {
     "data": {
      "text/html": [
       "<div>\n",
       "<style scoped>\n",
       "    .dataframe tbody tr th:only-of-type {\n",
       "        vertical-align: middle;\n",
       "    }\n",
       "\n",
       "    .dataframe tbody tr th {\n",
       "        vertical-align: top;\n",
       "    }\n",
       "\n",
       "    .dataframe thead th {\n",
       "        text-align: right;\n",
       "    }\n",
       "</style>\n",
       "<table border=\"1\" class=\"dataframe\">\n",
       "  <thead>\n",
       "    <tr style=\"text-align: right;\">\n",
       "      <th></th>\n",
       "      <th>Year</th>\n",
       "      <th>Type</th>\n",
       "      <th>Country</th>\n",
       "      <th>Area</th>\n",
       "      <th>Location</th>\n",
       "      <th>Activity</th>\n",
       "      <th>Sex</th>\n",
       "      <th>Fatal</th>\n",
       "    </tr>\n",
       "  </thead>\n",
       "  <tbody>\n",
       "    <tr>\n",
       "      <th>0</th>\n",
       "      <td>2016</td>\n",
       "      <td>Unprovoked</td>\n",
       "      <td>USA</td>\n",
       "      <td>Florida</td>\n",
       "      <td>New Smyrna Beach, Volusia County</td>\n",
       "      <td>Surfing</td>\n",
       "      <td>M</td>\n",
       "      <td>N</td>\n",
       "    </tr>\n",
       "    <tr>\n",
       "      <th>3</th>\n",
       "      <td>2016</td>\n",
       "      <td>Unprovoked</td>\n",
       "      <td>AUSTRALIA</td>\n",
       "      <td>Victoria</td>\n",
       "      <td>Thirteenth Beach</td>\n",
       "      <td>Surfing</td>\n",
       "      <td>M</td>\n",
       "      <td>N</td>\n",
       "    </tr>\n",
       "    <tr>\n",
       "      <th>4</th>\n",
       "      <td>2016</td>\n",
       "      <td>Unprovoked</td>\n",
       "      <td>AUSTRALIA</td>\n",
       "      <td>Victoria</td>\n",
       "      <td>Bells Beach</td>\n",
       "      <td>Surfing</td>\n",
       "      <td>M</td>\n",
       "      <td>N</td>\n",
       "    </tr>\n",
       "    <tr>\n",
       "      <th>5</th>\n",
       "      <td>2016</td>\n",
       "      <td>Boat</td>\n",
       "      <td>AUSTRALIA</td>\n",
       "      <td>Western Australia</td>\n",
       "      <td>Bunbury</td>\n",
       "      <td>Fishing</td>\n",
       "      <td>Unknown</td>\n",
       "      <td>N</td>\n",
       "    </tr>\n",
       "    <tr>\n",
       "      <th>6</th>\n",
       "      <td>2016</td>\n",
       "      <td>Unprovoked</td>\n",
       "      <td>USA</td>\n",
       "      <td>Florida</td>\n",
       "      <td>Ponte Vedra, St. Johns County</td>\n",
       "      <td>Bathing</td>\n",
       "      <td>M</td>\n",
       "      <td>N</td>\n",
       "    </tr>\n",
       "  </tbody>\n",
       "</table>\n",
       "</div>"
      ],
      "text/plain": [
       "   Year        Type    Country               Area  \\\n",
       "0  2016  Unprovoked        USA            Florida   \n",
       "3  2016  Unprovoked  AUSTRALIA           Victoria   \n",
       "4  2016  Unprovoked  AUSTRALIA           Victoria   \n",
       "5  2016        Boat  AUSTRALIA  Western Australia   \n",
       "6  2016  Unprovoked        USA            Florida   \n",
       "\n",
       "                           Location Activity      Sex Fatal  \n",
       "0  New Smyrna Beach, Volusia County  Surfing        M     N  \n",
       "3                  Thirteenth Beach  Surfing        M     N  \n",
       "4                       Bells Beach  Surfing        M     N  \n",
       "5                           Bunbury  Fishing  Unknown     N  \n",
       "6     Ponte Vedra, St. Johns County  Bathing        M     N  "
      ]
     },
     "execution_count": 22,
     "metadata": {},
     "output_type": "execute_result"
    }
   ],
   "source": [
    "data.head()"
   ]
  },
  {
   "cell_type": "markdown",
   "metadata": {},
   "source": [
    "After the data is clean, graphing the relevant variables of the data is an easy way to reach conclusions."
   ]
  },
  {
   "cell_type": "code",
   "execution_count": 23,
   "metadata": {},
   "outputs": [
    {
     "data": {
      "text/plain": [
       "<matplotlib.axes._subplots.AxesSubplot at 0x18bb4673c18>"
      ]
     },
     "execution_count": 23,
     "metadata": {},
     "output_type": "execute_result"
    },
    {
     "data": {
      "image/png": "[encoded data removed]",
      "text/plain": [
       "<Figure size 1008x720 with 1 Axes>"
      ]
     },
     "metadata": {
      "needs_background": "light"
     },
     "output_type": "display_data"
    }
   ],
   "source": [
    "plt.figure(figsize=(14, 10))\n",
    "style.use('ggplot')\n",
    "sns.countplot(x='Activity', hue = 'Fatal', data = data)"
   ]
  },
  {
   "cell_type": "markdown",
   "metadata": {},
   "source": [
    "## Conclusions:\n",
    "Surfing has the highest rate of attacks over any other activity, yet the fatality rate of the attacks is very low.  On the other hand Swimming is the third larges group of victims, and has the largest fatality rate of all activities.  It is evident that the highest risk activity is Swimming."
   ]
  },
  {
   "cell_type": "code",
   "execution_count": 24,
   "metadata": {},
   "outputs": [],
   "source": [
    "data.to_csv('clean_data.csv', index=False)"
   ]
  },
  {
   "cell_type": "code",
   "execution_count": null,
   "metadata": {},
   "outputs": [],
   "source": []
  }
 ],
 "metadata": {
  "kernelspec": {
   "display_name": "Python 3",
   "language": "python",
   "name": "python3"
  },
  "language_info": {
   "codemirror_mode": {
    "name": "ipython",
    "version": 3
   },
   "file_extension": ".py",
   "mimetype": "text/x-python",
   "name": "python",
   "nbconvert_exporter": "python",
   "pygments_lexer": "ipython3",
   "version": "3.7.1"
  }
 },
 "nbformat": 4,
 "nbformat_minor": 2
}
