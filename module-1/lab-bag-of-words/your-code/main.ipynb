{
 "cells": [
  {
   "cell_type": "markdown",
   "metadata": {},
   "source": [
    "Define `docs` array that contains the paths of `doc1.txt`, `doc2.txt`, and `doc3.txt`."
   ]
  },
  {
   "cell_type": "code",
   "execution_count": 1,
   "metadata": {},
   "outputs": [],
   "source": [
    "docs = ['doc1.txt', 'doc2.txt', 'doc3.txt']"
   ]
  },
  {
   "cell_type": "markdown",
   "metadata": {},
   "source": [
    "Define an empty array `corpus` that will contain the content strings of the docs. Loop `docs` and read the content of each doc into the `corpus` array."
   ]
  },
  {
   "cell_type": "code",
   "execution_count": 79,
   "metadata": {},
   "outputs": [],
   "source": [
    "corpus = []\n",
    "text = '' \n",
    "# Write your code here\n",
    "for i in range(len(docs)):  \n",
    "    corpus += open(docs[i],'r')\n",
    "    corpus[i] = corpus[i].lower()\n",
    "    corpus[i] =  ' '.join(corpus[i].split(\".\"))"
   ]
  },
  {
   "cell_type": "markdown",
   "metadata": {},
   "source": [
    "Print `corpus`."
   ]
  },
  {
   "cell_type": "code",
   "execution_count": 80,
   "metadata": {},
   "outputs": [
    {
     "name": "stdout",
     "output_type": "stream",
     "text": [
      "['ironhack is cool ', 'i love ironhack ', 'i am a student at ironhack ']\n"
     ]
    }
   ],
   "source": [
    "print(corpus)"
   ]
  },
  {
   "cell_type": "markdown",
   "metadata": {},
   "source": [
    "You should have seen:\n",
    "\n",
    "```['ironhack is cool', 'i love ironhack', 'i am a student at ironhack']```\n",
    "\n",
    "However, if your output is:\n",
    "\n",
    "```['Ironhack is cool.', 'I love Ironhack.', 'I am a student at Ironhack.']```\n",
    "\n",
    "This means you didn't:\n",
    "\n",
    "1. Remove punctuation from the strings;\n",
    "\n",
    "1. Convert strings to lowercase.\n",
    "\n",
    "Revise your code above until you receive the correct output for `corpus`."
   ]
  },
  {
   "cell_type": "markdown",
   "metadata": {},
   "source": [
    "Now define `bag_of_words` as an empty array. It will contain the unique terms in `corpus`.\n",
    "\n",
    "Loop through `corpus`. In each loop, do the following:\n",
    "\n",
    "1. Break the string into an array of terms. \n",
    "1. Create a sub-loop to iterate the terms array. \n",
    "  * In each sub-loop, you'll check if the current term is already contained in `bag_of_words`. If not in `bag_of_words`, append it to the array."
   ]
  },
  {
   "cell_type": "code",
   "execution_count": 62,
   "metadata": {},
   "outputs": [],
   "source": [
    "bag_of_words = []\n",
    "\n",
    "# Write your code here\n",
    "for e in corpus:\n",
    "    bag_of_words.append(e.split())\n",
    "bag_of_words = [e2 for e in bag_of_words for e2 in e]    \n"
   ]
  },
  {
   "cell_type": "markdown",
   "metadata": {},
   "source": [
    "Print `bag_of_words`. You should see: \n",
    "\n",
    "```['ironhack', 'is', 'cool', 'i', 'love', 'am', 'a', 'student', 'at']```"
   ]
  },
  {
   "cell_type": "code",
   "execution_count": 63,
   "metadata": {},
   "outputs": [
    {
     "name": "stdout",
     "output_type": "stream",
     "text": [
      "{'i', 'cool', 'ironhack', 'is', 'am', 'a', 'student', 'at', 'love'}\n"
     ]
    }
   ],
   "source": [
    "print(set(bag_of_words))"
   ]
  },
  {
   "cell_type": "markdown",
   "metadata": {},
   "source": [
    "Now we define an empty array called `term_freq`. Loop `corpus` for a second time. In each loop, create a sub-loop to iterate the terms in `bag_of_words`. Count how many times each term appears in each doc of `corpus`. Append the term-frequency array to `term_freq`."
   ]
  },
  {
   "cell_type": "code",
   "execution_count": 78,
   "metadata": {},
   "outputs": [
    {
     "name": "stdout",
     "output_type": "stream",
     "text": [
      "ironhack   ironhack\n",
      "is   ironhack\n",
      "cool   ironhack\n",
      "   ironhack\n",
      "ironhack   is\n",
      "is   is\n",
      "cool   is\n",
      "   is\n",
      "ironhack   cool\n",
      "is   cool\n",
      "cool   cool\n",
      "   cool\n",
      "ironhack   i\n",
      "is   i\n",
      "cool   i\n",
      "   i\n",
      "ironhack   love\n",
      "is   love\n",
      "cool   love\n",
      "   love\n",
      "ironhack   ironhack\n",
      "is   ironhack\n",
      "cool   ironhack\n",
      "   ironhack\n",
      "ironhack   i\n",
      "is   i\n",
      "cool   i\n",
      "   i\n",
      "ironhack   am\n",
      "is   am\n",
      "cool   am\n",
      "   am\n",
      "ironhack   a\n",
      "is   a\n",
      "cool   a\n",
      "   a\n",
      "ironhack   student\n",
      "is   student\n",
      "cool   student\n",
      "   student\n",
      "ironhack   at\n",
      "is   at\n",
      "cool   at\n",
      "   at\n",
      "ironhack   ironhack\n",
      "is   ironhack\n",
      "cool   ironhack\n",
      "   ironhack\n",
      "i   ironhack\n",
      "love   ironhack\n",
      "ironhack   ironhack\n",
      "   ironhack\n",
      "i   is\n",
      "love   is\n",
      "ironhack   is\n",
      "   is\n",
      "i   cool\n",
      "love   cool\n",
      "ironhack   cool\n",
      "   cool\n",
      "i   i\n",
      "love   i\n",
      "ironhack   i\n",
      "   i\n",
      "i   love\n",
      "love   love\n",
      "ironhack   love\n",
      "   love\n",
      "i   ironhack\n",
      "love   ironhack\n",
      "ironhack   ironhack\n",
      "   ironhack\n",
      "i   i\n",
      "love   i\n",
      "ironhack   i\n",
      "   i\n",
      "i   am\n",
      "love   am\n",
      "ironhack   am\n",
      "   am\n",
      "i   a\n",
      "love   a\n",
      "ironhack   a\n",
      "   a\n",
      "i   student\n",
      "love   student\n",
      "ironhack   student\n",
      "   student\n",
      "i   at\n",
      "love   at\n",
      "ironhack   at\n",
      "   at\n",
      "i   ironhack\n",
      "love   ironhack\n",
      "ironhack   ironhack\n",
      "   ironhack\n",
      "i   ironhack\n",
      "am   ironhack\n",
      "a   ironhack\n",
      "student   ironhack\n",
      "at   ironhack\n",
      "ironhack   ironhack\n",
      "   ironhack\n",
      "i   is\n",
      "am   is\n",
      "a   is\n",
      "student   is\n",
      "at   is\n",
      "ironhack   is\n",
      "   is\n",
      "i   cool\n",
      "am   cool\n",
      "a   cool\n",
      "student   cool\n",
      "at   cool\n",
      "ironhack   cool\n",
      "   cool\n",
      "i   i\n",
      "am   i\n",
      "a   i\n",
      "student   i\n",
      "at   i\n",
      "ironhack   i\n",
      "   i\n",
      "i   love\n",
      "am   love\n",
      "a   love\n",
      "student   love\n",
      "at   love\n",
      "ironhack   love\n",
      "   love\n",
      "i   ironhack\n",
      "am   ironhack\n",
      "a   ironhack\n",
      "student   ironhack\n",
      "at   ironhack\n",
      "ironhack   ironhack\n",
      "   ironhack\n",
      "i   i\n",
      "am   i\n",
      "a   i\n",
      "student   i\n",
      "at   i\n",
      "ironhack   i\n",
      "   i\n",
      "i   am\n",
      "am   am\n",
      "a   am\n",
      "student   am\n",
      "at   am\n",
      "ironhack   am\n",
      "   am\n",
      "i   a\n",
      "am   a\n",
      "a   a\n",
      "student   a\n",
      "at   a\n",
      "ironhack   a\n",
      "   a\n",
      "i   student\n",
      "am   student\n",
      "a   student\n",
      "student   student\n",
      "at   student\n",
      "ironhack   student\n",
      "   student\n",
      "i   at\n",
      "am   at\n",
      "a   at\n",
      "student   at\n",
      "at   at\n",
      "ironhack   at\n",
      "   at\n",
      "i   ironhack\n",
      "am   ironhack\n",
      "a   ironhack\n",
      "student   ironhack\n",
      "at   ironhack\n",
      "ironhack   ironhack\n",
      "   ironhack\n"
     ]
    }
   ],
   "source": [
    "term_freq = []\n",
    "count = 0\n",
    "corpus_words = []\n",
    "for e in corpus:\n",
    "    corpus_words.append(e.split(' '))\n",
    "# Write your code here\n",
    "for e_c in corpus_words:\n",
    "    for e_bw in bag_of_words:\n",
    "        for i in range(len(e_c)):\n",
    "            print (e_c[i], ' ', e_bw )\n",
    "            if e_c[i] == e_bw:\n",
    "                term_freq.append('1')\n",
    "            else: \n",
    "                term_freq.append('0')\n",
    "    "
   ]
  },
  {
   "cell_type": "markdown",
   "metadata": {},
   "source": [
    "Print `term_freq`. You should see:\n",
    "\n",
    "```[[1, 1, 1, 0, 0, 0, 0, 0, 0], [1, 0, 0, 1, 1, 0, 0, 0, 0], [1, 0, 0, 1, 0, 1, 1, 1, 1]]```"
   ]
  },
  {
   "cell_type": "code",
   "execution_count": 77,
   "metadata": {},
   "outputs": [
    {
     "name": "stdout",
     "output_type": "stream",
     "text": [
      "['1', '0', '0', '0', '0', '1', '0', '0', '0', '0', '1', '0', '0', '0', '0', '0', '0', '0', '0', '0', '1', '0', '0', '0', '0', '0', '0', '0', '0', '0', '0', '0', '0', '0', '0', '0', '0', '0', '0', '0', '0', '0', '0', '0', '1', '0', '0', '0', '0', '0', '1', '0', '0', '0', '0', '0', '0', '0', '0', '0', '1', '0', '0', '0', '0', '1', '0', '0', '0', '0', '1', '0', '1', '0', '0', '0', '0', '0', '0', '0', '0', '0', '0', '0', '0', '0', '0', '0', '0', '0', '0', '0', '0', '0', '1', '0', '0', '0', '0', '0', '0', '1', '0', '0', '0', '0', '0', '0', '0', '0', '0', '0', '0', '0', '0', '0', '0', '1', '0', '0', '0', '0', '0', '0', '0', '0', '0', '0', '0', '0', '0', '0', '0', '0', '0', '0', '1', '0', '1', '0', '0', '0', '0', '0', '0', '0', '1', '0', '0', '0', '0', '0', '0', '0', '1', '0', '0', '0', '0', '0', '0', '0', '1', '0', '0', '0', '0', '0', '0', '0', '1', '0', '0', '0', '0', '0', '0', '0', '1', '0']\n"
     ]
    }
   ],
   "source": [
    "print(term_freq)"
   ]
  },
  {
   "cell_type": "markdown",
   "metadata": {},
   "source": [
    "**If your answer is correct, congratulations! You've solved the challenge!**\n",
    "\n",
    "If not, go back and check for errors in your code."
   ]
  }
 ],
 "metadata": {
  "kernelspec": {
   "display_name": "Python 3",
   "language": "python",
   "name": "python3"
  },
  "language_info": {
   "codemirror_mode": {
    "name": "ipython",
    "version": 3
   },
   "file_extension": ".py",
   "mimetype": "text/x-python",
   "name": "python",
   "nbconvert_exporter": "python",
   "pygments_lexer": "ipython3",
   "version": "3.7.1"
  }
 },
 "nbformat": 4,
 "nbformat_minor": 2
}
