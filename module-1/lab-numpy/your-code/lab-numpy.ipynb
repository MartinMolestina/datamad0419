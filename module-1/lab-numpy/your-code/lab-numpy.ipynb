{
 "cells": [
  {
   "cell_type": "code",
   "execution_count": 1,
   "metadata": {},
   "outputs": [],
   "source": [
    "#1. Import the NUMPY package under the name np.\n",
    "import numpy as np"
   ]
  },
  {
   "cell_type": "code",
   "execution_count": 3,
   "metadata": {},
   "outputs": [
    {
     "name": "stdout",
     "output_type": "stream",
     "text": [
      "1.15.4\n"
     ]
    }
   ],
   "source": [
    "#2. Print the NUMPY version and the configuration.\n",
    "print(np.version.version)"
   ]
  },
  {
   "cell_type": "code",
   "execution_count": 14,
   "metadata": {},
   "outputs": [],
   "source": [
    "#3. Generate a 2x3x5 3-dimensional array with random values. Assign the array to variable \"a\"\n",
    "# Challenge: there are at least three easy ways that use numpy to generate random arrays. How many ways can you find?\n",
    "\n",
    "a = np.random.random((2,3,5))"
   ]
  },
  {
   "cell_type": "code",
   "execution_count": 15,
   "metadata": {},
   "outputs": [
    {
     "name": "stdout",
     "output_type": "stream",
     "text": [
      "[[[0.83513348 0.37693289 0.81594119 0.69758533 0.11003698]\n",
      "  [0.39703178 0.21331075 0.38279216 0.50700705 0.09624282]\n",
      "  [0.54364982 0.32438977 0.59623947 0.42755506 0.40017937]]\n",
      "\n",
      " [[0.84184994 0.26660777 0.1156732  0.32873476 0.60208098]\n",
      "  [0.6826124  0.39875683 0.95053918 0.74991048 0.17634668]\n",
      "  [0.05229202 0.11221816 0.5596292  0.49960154 0.58535413]]]\n"
     ]
    }
   ],
   "source": [
    "#4. Print a.\n",
    "print(a)"
   ]
  },
  {
   "cell_type": "code",
   "execution_count": 16,
   "metadata": {},
   "outputs": [],
   "source": [
    "#5. Create a 5x2x3 3-dimensional array with all values equaling 1.\n",
    "#Assign the array to variable \"b\"\n",
    "b = np.random.random((5,2,3))"
   ]
  },
  {
   "cell_type": "code",
   "execution_count": 17,
   "metadata": {},
   "outputs": [
    {
     "name": "stdout",
     "output_type": "stream",
     "text": [
      "[[[0.58398433 0.60339464 0.83791019]\n",
      "  [0.30611888 0.39692493 0.36027191]]\n",
      "\n",
      " [[0.72901362 0.32133832 0.02074842]\n",
      "  [0.96719068 0.100707   0.31709846]]\n",
      "\n",
      " [[0.36789235 0.31342537 0.18430965]\n",
      "  [0.0394117  0.98421258 0.00905978]]\n",
      "\n",
      " [[0.81634011 0.03854645 0.6688864 ]\n",
      "  [0.16311583 0.10660487 0.86117173]]\n",
      "\n",
      " [[0.05591802 0.7481566  0.39095038]\n",
      "  [0.69250919 0.63434301 0.24541266]]]\n"
     ]
    }
   ],
   "source": [
    "#6. Print b.\n",
    "print(b)"
   ]
  },
  {
   "cell_type": "code",
   "execution_count": 18,
   "metadata": {},
   "outputs": [
    {
     "data": {
      "text/plain": [
       "True"
      ]
     },
     "execution_count": 18,
     "metadata": {},
     "output_type": "execute_result"
    }
   ],
   "source": [
    "#7. Do a and b have the same size? How do you prove that in Python code?\n",
    "a.size == b.size"
   ]
  },
  {
   "cell_type": "code",
   "execution_count": 19,
   "metadata": {},
   "outputs": [
    {
     "ename": "ValueError",
     "evalue": "operands could not be broadcast together with shapes (2,3,5) (5,2,3) ",
     "output_type": "error",
     "traceback": [
      "\u001b[1;31m---------------------------------------------------------------------------\u001b[0m",
      "\u001b[1;31mValueError\u001b[0m                                Traceback (most recent call last)",
      "\u001b[1;32m<ipython-input-19-30a0acd74455>\u001b[0m in \u001b[0;36m<module>\u001b[1;34m\u001b[0m\n\u001b[0;32m      1\u001b[0m \u001b[1;31m#8. Are you able to add a and b? Why or why not?\u001b[0m\u001b[1;33m\u001b[0m\u001b[1;33m\u001b[0m\u001b[1;33m\u001b[0m\u001b[0m\n\u001b[1;32m----> 2\u001b[1;33m \u001b[0mprint\u001b[0m\u001b[1;33m(\u001b[0m\u001b[0ma\u001b[0m\u001b[1;33m+\u001b[0m\u001b[0mb\u001b[0m\u001b[1;33m)\u001b[0m\u001b[1;33m\u001b[0m\u001b[1;33m\u001b[0m\u001b[0m\n\u001b[0m",
      "\u001b[1;31mValueError\u001b[0m: operands could not be broadcast together with shapes (2,3,5) (5,2,3) "
     ]
    }
   ],
   "source": [
    "#8. Are you able to add a and b? Why or why not?\n",
    "print(a+b)"
   ]
  },
  {
   "cell_type": "code",
   "execution_count": 34,
   "metadata": {},
   "outputs": [
    {
     "name": "stdout",
     "output_type": "stream",
     "text": [
      "(2, 3, 5)\n",
      "(2, 3, 5)\n"
     ]
    }
   ],
   "source": [
    "#9. Transpose b so that it has the same structure of a (i.e. become a 2x3x5 array). Assign the transposed array to varialbe \"c\".\n",
    "c = b.transpose(1,2,0)\n",
    "print(a.shape)\n",
    "print(c.shape)"
   ]
  },
  {
   "cell_type": "code",
   "execution_count": 36,
   "metadata": {},
   "outputs": [
    {
     "name": "stdout",
     "output_type": "stream",
     "text": [
      "[[[1.4191178  1.10594651 1.18383354 1.51392544 0.165955  ]\n",
      "  [1.00042642 0.53464907 0.69621753 0.5455535  0.84439942]\n",
      "  [1.38156    0.3451382  0.78054912 1.09644146 0.79112975]]\n",
      "\n",
      " [[1.14796882 1.23379846 0.15508491 0.49185059 1.29459017]\n",
      "  [1.07953733 0.49946383 1.93475177 0.85651534 0.8106897 ]\n",
      "  [0.41256394 0.42931662 0.56868898 1.36077327 0.83076679]]]\n",
      "The arrays now have the same shape, so Python \n"
     ]
    }
   ],
   "source": [
    "#10. Try to add a and c. Now it should work. Assign the sum to varialbe \"d\". But why does it work now?\n",
    "d = a + c\n",
    "print(d)\n",
    "print(\"The arrays now have the same shape, so Python \")"
   ]
  },
  {
   "cell_type": "code",
   "execution_count": 39,
   "metadata": {},
   "outputs": [
    {
     "name": "stdout",
     "output_type": "stream",
     "text": [
      "[[[0.83513348 0.37693289 0.81594119 0.69758533 0.11003698]\n",
      "  [0.39703178 0.21331075 0.38279216 0.50700705 0.09624282]\n",
      "  [0.54364982 0.32438977 0.59623947 0.42755506 0.40017937]]\n",
      "\n",
      " [[0.84184994 0.26660777 0.1156732  0.32873476 0.60208098]\n",
      "  [0.6826124  0.39875683 0.95053918 0.74991048 0.17634668]\n",
      "  [0.05229202 0.11221816 0.5596292  0.49960154 0.58535413]]]\n",
      "[[[1.4191178  1.10594651 1.18383354 1.51392544 0.165955  ]\n",
      "  [1.00042642 0.53464907 0.69621753 0.5455535  0.84439942]\n",
      "  [1.38156    0.3451382  0.78054912 1.09644146 0.79112975]]\n",
      "\n",
      " [[1.14796882 1.23379846 0.15508491 0.49185059 1.29459017]\n",
      "  [1.07953733 0.49946383 1.93475177 0.85651534 0.8106897 ]\n",
      "  [0.41256394 0.42931662 0.56868898 1.36077327 0.83076679]]]\n",
      "arr d contains arr a plus arr c\n",
      "d = a + c\n"
     ]
    }
   ],
   "source": [
    "#11. Print a and d. Notice the difference and relation of the two array in terms of the values? Explain.\n",
    "print (a)\n",
    "print (d)\n",
    "print(\"arr d contains arr a plus arr c\")\n",
    "print(\"d = a + c\")"
   ]
  },
  {
   "cell_type": "code",
   "execution_count": 40,
   "metadata": {},
   "outputs": [],
   "source": [
    "#12. Multiply a and c. Assign the result to e.\n",
    "e = a * c"
   ]
  },
  {
   "cell_type": "code",
   "execution_count": 42,
   "metadata": {},
   "outputs": [
    {
     "name": "stdout",
     "output_type": "stream",
     "text": [
      "e = a * c, so it is impossible for e = a \n"
     ]
    }
   ],
   "source": [
    "#13. Does e equal to a? Why or why not?\n",
    "e == a\n",
    "print(\"e = a * c, so it is impossible for e = a \")"
   ]
  },
  {
   "cell_type": "code",
   "execution_count": 45,
   "metadata": {},
   "outputs": [
    {
     "name": "stdout",
     "output_type": "stream",
     "text": [
      "1.9347517682552708\n",
      "0.15508490569517686\n",
      "0.8837067754760739\n"
     ]
    }
   ],
   "source": [
    "#14. Identify the max, min, and mean values in d. Assign those values to variables \"d_max\", \"d_min\", and \"d_mean\"\n",
    "d_max = np.max(d)\n",
    "print (d_max)\n",
    "d_min = np.min(d)\n",
    "print (d_min)\n",
    "d_mean = np.mean(d)\n",
    "print (d_mean)"
   ]
  },
  {
   "cell_type": "code",
   "execution_count": 48,
   "metadata": {},
   "outputs": [
    {
     "name": "stdout",
     "output_type": "stream",
     "text": [
      "[[[1.4191178  1.10594651 1.18383354 1.51392544 0.165955  ]\n",
      "  [1.00042642 0.53464907 0.69621753 0.5455535  0.84439942]\n",
      "  [1.38156    0.3451382  0.78054912 1.09644146 0.79112975]]\n",
      "\n",
      " [[1.14796882 1.23379846 0.15508491 0.49185059 1.29459017]\n",
      "  [1.07953733 0.49946383 1.93475177 0.85651534 0.8106897 ]\n",
      "  [0.41256394 0.42931662 0.56868898 1.36077327 0.83076679]]]\n"
     ]
    }
   ],
   "source": [
    "#15. Now we want to label the values in d. First create an empty array \"f\" with the same shape (i.e. 2x3x5) as d using `np.empty`.\n",
    "f = np.empty((2,3,5))\n",
    "print (f)"
   ]
  },
  {
   "cell_type": "code",
   "execution_count": 49,
   "metadata": {},
   "outputs": [
    {
     "name": "stdout",
     "output_type": "stream",
     "text": [
      "[[[ 75.  75.  75.  75.  25.]\n",
      "  [ 75.  25.  25.  25.  25.]\n",
      "  [ 75.  25.  25.  75.  25.]]\n",
      "\n",
      " [[ 75.  75.   0.  25.  75.]\n",
      "  [ 75.  25. 100.  25.  25.]\n",
      "  [ 25.  25.  25.  75.  25.]]]\n"
     ]
    }
   ],
   "source": [
    "\"\"\"\n",
    "#16. Populate the values in f. For each value in d, if it's larger than d_min but smaller than d_mean, assign 25 to the corresponding value in f.\n",
    "If a value in d is larger than d_mean but smaller than d_max, assign 75 to the corresponding value in f.\n",
    "If a value equals to d_mean, assign 50 to the corresponding value in f.\n",
    "Assign 0 to the corresponding value(s) in f for d_min in d.\n",
    "Assign 100 to the corresponding value(s) in f for d_max in d.\n",
    "In the end, f should have only the following values: 0, 25, 50, 75, and 100.\n",
    "Note: you don't have to use Numpy in this question.\n",
    "\"\"\"\n",
    "for i in range(f.shape[0]):\n",
    "    for j in range(f.shape[1]):\n",
    "        for k in range(f.shape[2]):\n",
    "            if d[i,j,k] > d_min and d[i,j,k] < d_mean:\n",
    "                f[i,j,k] = 25\n",
    "            elif d[i,j,k] > d_mean and d[i,j,k] < d_max:\n",
    "                f[i,j,k] = 75\n",
    "            elif d[i,j,k] == d_mean:\n",
    "                f[i,j,k] = 50\n",
    "            elif d[i,j,k] == d_min:\n",
    "                f[i,j,k] = 0\n",
    "            elif d[i,j,k] == d_max:\n",
    "                f[i,j,k] = 100\n",
    "print (f)"
   ]
  },
  {
   "cell_type": "code",
   "execution_count": 50,
   "metadata": {},
   "outputs": [
    {
     "name": "stdout",
     "output_type": "stream",
     "text": [
      "[[[1.4191178  1.10594651 1.18383354 1.51392544 0.165955  ]\n",
      "  [1.00042642 0.53464907 0.69621753 0.5455535  0.84439942]\n",
      "  [1.38156    0.3451382  0.78054912 1.09644146 0.79112975]]\n",
      "\n",
      " [[1.14796882 1.23379846 0.15508491 0.49185059 1.29459017]\n",
      "  [1.07953733 0.49946383 1.93475177 0.85651534 0.8106897 ]\n",
      "  [0.41256394 0.42931662 0.56868898 1.36077327 0.83076679]]]\n",
      "[[[ 75.  75.  75.  75.  25.]\n",
      "  [ 75.  25.  25.  25.  25.]\n",
      "  [ 75.  25.  25.  75.  25.]]\n",
      "\n",
      " [[ 75.  75.   0.  25.  75.]\n",
      "  [ 75.  25. 100.  25.  25.]\n",
      "  [ 25.  25.  25.  75.  25.]]]\n"
     ]
    }
   ],
   "source": [
    "\"\"\"\n",
    "#17. Print d and f. Do you have your expected f?\n",
    "For instance, if your d is:\n",
    "array([[[1.85836099, 1.67064465, 1.62576044, 1.40243961, 1.88454931],\n",
    "        [1.75354326, 1.69403643, 1.36729252, 1.61415071, 1.12104981],\n",
    "        [1.72201435, 1.1862918 , 1.87078449, 1.7726778 , 1.88180042]],\n",
    "\n",
    "       [[1.44747908, 1.31673383, 1.02000951, 1.52218947, 1.97066381],\n",
    "        [1.79129243, 1.74983003, 1.96028037, 1.85166831, 1.65450881],\n",
    "        [1.18068344, 1.9587381 , 1.00656599, 1.93402165, 1.73514584]]])\n",
    "\n",
    "Your f should be:\n",
    "array([[[ 75.,  75.,  75.,  25.,  75.],\n",
    "        [ 75.,  75.,  25.,  25.,  25.],\n",
    "        [ 75.,  25.,  75.,  75.,  75.]],\n",
    "\n",
    "       [[ 25.,  25.,  25.,  25., 100.],\n",
    "        [ 75.,  75.,  75.,  75.,  75.],\n",
    "        [ 25.,  75.,   0.,  75.,  75.]]])\n",
    "\"\"\"\n",
    "print (d)\n",
    "print (f)"
   ]
  },
  {
   "cell_type": "code",
   "execution_count": 61,
   "metadata": {},
   "outputs": [
    {
     "name": "stdout",
     "output_type": "stream",
     "text": [
      "[[['D' 'D' 'D' 'D' 'B']\n",
      "  ['D' 'B' 'B' 'B' 'B']\n",
      "  ['D' 'B' 'B' 'D' 'B']]\n",
      "\n",
      " [['D' 'D' 'A' 'B' 'D']\n",
      "  ['D' 'B' 'E' 'B' 'B']\n",
      "  ['B' 'B' 'B' 'D' 'B']]]\n"
     ]
    }
   ],
   "source": [
    "\"\"\"\n",
    "#18. Bonus question: instead of using numbers (i.e. 0, 25, 50, 75, and 100), how to use string values \n",
    "(\"A\", \"B\", \"C\", \"D\", and \"E\") to label the array elements? You are expecting the result to be:\n",
    "array([[[ 'D',  'D',  'D',  'B',  'D'],\n",
    "        [ 'D',  'D',  'B',  'B',  'B'],\n",
    "        [ 'D',  'B',  'D',  'D',  'D']],\n",
    "\n",
    "       [[ 'B',  'B',  'B',  'B',  'E'],\n",
    "        [ 'D',  'D',  'D',  'D',  'D'],\n",
    "        [ 'B',  'D',   'A',  'D', 'D']]])\n",
    "Again, you don't need Numpy in this question.\n",
    "\"\"\"\n",
    "e = np.empty((2,3,5))\n",
    "e = e.tolist()\n",
    "\n",
    "for i in range(f.shape[0]):\n",
    "    for j in range(f.shape[1]):\n",
    "        for k in range(f.shape[2]):\n",
    "            if d[i][j][k] > d_min and d[i][j][k] < d_mean:\n",
    "                e[i][j][k] = 'B'\n",
    "            elif d[i][j][k] > d_mean and d[i][j][k] < d_max:\n",
    "                e[i][j][k] = 'D'\n",
    "            elif d[i][j][k] == d_mean:\n",
    "                e[i][j][k] = 'C'\n",
    "            elif d[i][j][k] == d_min:\n",
    "                e[i][j][k] = 'A'\n",
    "            elif d[i][j][k] == d_max:\n",
    "                e[i][j][k] = 'E'\n",
    "e = np.array(e)\n",
    "print (e)"
   ]
  },
  {
   "cell_type": "code",
   "execution_count": null,
   "metadata": {},
   "outputs": [],
   "source": []
  }
 ],
 "metadata": {
  "kernelspec": {
   "display_name": "Python 3",
   "language": "python",
   "name": "python3"
  },
  "language_info": {
   "codemirror_mode": {
    "name": "ipython",
    "version": 3
   },
   "file_extension": ".py",
   "mimetype": "text/x-python",
   "name": "python",
   "nbconvert_exporter": "python",
   "pygments_lexer": "ipython3",
   "version": "3.7.1"
  }
 },
 "nbformat": 4,
 "nbformat_minor": 2
}
