{
 "cells": [
  {
   "cell_type": "code",
   "execution_count": 1,
   "metadata": {},
   "outputs": [],
   "source": [
    "#1. Import the NUMPY package under the name np.\n",
    "import numpy as np"
   ]
  },
  {
   "cell_type": "code",
   "execution_count": 3,
   "metadata": {},
   "outputs": [
    {
     "name": "stdout",
     "output_type": "stream",
     "text": [
      "1.15.4\n"
     ]
    }
   ],
   "source": [
    "#2. Print the NUMPY version and the configuration.\n",
    "print(np.version.version)"
   ]
  },
  {
   "cell_type": "code",
   "execution_count": 14,
   "metadata": {},
   "outputs": [],
   "source": [
    "#3. Generate a 2x3x5 3-dimensional array with random values. Assign the array to variable \"a\"\n",
    "# Challenge: there are at least three easy ways that use numpy to generate random arrays. How many ways can you find?\n",
    "\n",
    "a = np.random.random((2,3,5))"
   ]
  },
  {
   "cell_type": "code",
   "execution_count": 15,
   "metadata": {},
   "outputs": [
    {
     "name": "stdout",
     "output_type": "stream",
     "text": [
      "[[[0.83513348 0.37693289 0.81594119 0.69758533 0.11003698]\n",
      "  [0.39703178 0.21331075 0.38279216 0.50700705 0.09624282]\n",
      "  [0.54364982 0.32438977 0.59623947 0.42755506 0.40017937]]\n",
      "\n",
      " [[0.84184994 0.26660777 0.1156732  0.32873476 0.60208098]\n",
      "  [0.6826124  0.39875683 0.95053918 0.74991048 0.17634668]\n",
      "  [0.05229202 0.11221816 0.5596292  0.49960154 0.58535413]]]\n"
     ]
    }
   ],
   "source": [
    "#4. Print a.\n",
    "print(a)"
   ]
  },
  {
   "cell_type": "code",
   "execution_count": 16,
   "metadata": {},
   "outputs": [],
   "source": [
    "#5. Create a 5x2x3 3-dimensional array with all values equaling 1.\n",
    "#Assign the array to variable \"b\"\n",
    "b = np.random.random((5,2,3))"
   ]
  },
  {
   "cell_type": "code",
   "execution_count": 17,
   "metadata": {},
   "outputs": [
    {
     "name": "stdout",
     "output_type": "stream",
     "text": [
      "[[[0.58398433 0.60339464 0.83791019]\n",
      "  [0.30611888 0.39692493 0.36027191]]\n",
      "\n",
      " [[0.72901362 0.32133832 0.02074842]\n",
      "  [0.96719068 0.100707   0.31709846]]\n",
      "\n",
      " [[0.36789235 0.31342537 0.18430965]\n",
      "  [0.0394117  0.98421258 0.00905978]]\n",
      "\n",
      " [[0.81634011 0.03854645 0.6688864 ]\n",
      "  [0.16311583 0.10660487 0.86117173]]\n",
      "\n",
      " [[0.05591802 0.7481566  0.39095038]\n",
      "  [0.69250919 0.63434301 0.24541266]]]\n"
     ]
    }
   ],
   "source": [
    "#6. Print b.\n",
    "print(b)"
   ]
  },
  {
   "cell_type": "code",
   "execution_count": 18,
   "metadata": {},
   "outputs": [
    {
     "data": {
      "text/plain": [
       "True"
      ]
     },
     "execution_count": 18,
     "metadata": {},
     "output_type": "execute_result"
    }
   ],
   "source": [
    "#7. Do a and b have the same size? How do you prove that in Python code?\n",
    "a.size == b.size"
   ]
  },
  {
   "cell_type": "code",
   "execution_count": 19,
   "metadata": {},
   "outputs": [
    {
     "ename": "ValueError",
     "evalue": "operands could not be broadcast together with shapes (2,3,5) (5,2,3) ",
     "output_type": "error",
     "traceback": [
      "\u001b[1;31m---------------------------------------------------------------------------\u001b[0m",
      "\u001b[1;31mValueError\u001b[0m                                Traceback (most recent call last)",
      "\u001b[1;32m<ipython-input-19-30a0acd74455>\u001b[0m in \u001b[0;36m<module>\u001b[1;34m\u001b[0m\n\u001b[0;32m      1\u001b[0m \u001b[1;31m#8. Are you able to add a and b? Why or why not?\u001b[0m\u001b[1;33m\u001b[0m\u001b[1;33m\u001b[0m\u001b[1;33m\u001b[0m\u001b[0m\n\u001b[1;32m----> 2\u001b[1;33m \u001b[0mprint\u001b[0m\u001b[1;33m(\u001b[0m\u001b[0ma\u001b[0m\u001b[1;33m+\u001b[0m\u001b[0mb\u001b[0m\u001b[1;33m)\u001b[0m\u001b[1;33m\u001b[0m\u001b[1;33m\u001b[0m\u001b[0m\n\u001b[0m",
      "\u001b[1;31mValueError\u001b[0m: operands could not be broadcast together with shapes (2,3,5) (5,2,3) "
     ]
    }
   ],
   "source": [
    "#8. Are you able to add a and b? Why or why not?\n",
    "print(a+b)"
   ]
  },
  {
   "cell_type": "code",
   "execution_count": 34,
   "metadata": {},
   "outputs": [
    {
     "name": "stdout",
     "output_type": "stream",
     "text": [
      "(2, 3, 5)\n",
      "(2, 3, 5)\n"
     ]
    }
   ],
   "source": [
    "#9. Transpose b so that it has the same structure of a (i.e. become a 2x3x5 array). Assign the transposed array to varialbe \"c\".\n",
    "c = b.transpose(1,2,0)\n",
    "print(a.shape)\n",
    "print(c.shape)"
   ]
  },
  {
   "cell_type": "code",
   "execution_count": 36,
   "metadata": {},
   "outputs": [
    {
     "name": "stdout",
     "output_type": "stream",
     "text": [
      "[[[1.4191178  1.10594651 1.18383354 1.51392544 0.165955  ]\n",
      "  [1.00042642 0.53464907 0.69621753 0.5455535  0.84439942]\n",
      "  [1.38156    0.3451382  0.78054912 1.09644146 0.79112975]]\n",
      "\n",
      " [[1.14796882 1.23379846 0.15508491 0.49185059 1.29459017]\n",
      "  [1.07953733 0.49946383 1.93475177 0.85651534 0.8106897 ]\n",
      "  [0.41256394 0.42931662 0.56868898 1.36077327 0.83076679]]]\n",
      "The arrays now have the same shape, so Python \n"
     ]
    }
   ],
   "source": [
    "#10. Try to add a and c. Now it should work. Assign the sum to varialbe \"d\". But why does it work now?\n",
    "d = a + c\n",
    "print(d)\n",
    "print(\"The arrays now have the same shape, so Python \")"
   ]
  },
  {
   "cell_type": "code",
   "execution_count": 39,
   "metadata": {},
   "outputs": [
    {
     "name": "stdout",
     "output_type": "stream",
     "text": [
      "[[[0.83513348 0.37693289 0.81594119 0.69758533 0.11003698]\n",
      "  [0.39703178 0.21331075 0.38279216 0.50700705 0.09624282]\n",
      "  [0.54364982 0.32438977 0.59623947 0.42755506 0.40017937]]\n",
      "\n",
      " [[0.84184994 0.26660777 0.1156732  0.32873476 0.60208098]\n",
      "  [0.6826124  0.39875683 0.95053918 0.74991048 0.17634668]\n",
      "  [0.05229202 0.11221816 0.5596292  0.49960154 0.58535413]]]\n",
      "[[[1.4191178  1.10594651 1.18383354 1.51392544 0.165955  ]\n",
      "  [1.00042642 0.53464907 0.69621753 0.5455535  0.84439942]\n",
      "  [1.38156    0.3451382  0.78054912 1.09644146 0.79112975]]\n",
      "\n",
      " [[1.14796882 1.23379846 0.15508491 0.49185059 1.29459017]\n",
      "  [1.07953733 0.49946383 1.93475177 0.85651534 0.8106897 ]\n",
      "  [0.41256394 0.42931662 0.56868898 1.36077327 0.83076679]]]\n",
      "arr d contains arr a plus arr c\n",
      "d = a + c\n"
     ]
    }
   ],
   "source": [
    "#11. Print a and d. Notice the difference and relation of the two array in terms of the values? Explain.\n",
    "print (a)\n",
    "print (d)\n",
    "print(\"arr d contains arr a plus arr c\")\n",
    "print(\"d = a + c\")"
   ]
  },
  {
   "cell_type": "code",
   "execution_count": 40,
   "metadata": {},
   "outputs": [],
   "source": [
    "#12. Multiply a and c. Assign the result to e.\n",
    "e = a * c"
   ]
  },
  {
   "cell_type": "code",
   "execution_count": 41,
   "metadata": {},
   "outputs": [
    {
     "data": {
      "text/plain": [
       "array([[[False, False, False, False, False],\n",
       "        [False, False, False, False, False],\n",
       "        [False, False, False, False, False]],\n",
       "\n",
       "       [[False, False, False, False, False],\n",
       "        [False, False, False, False, False],\n",
       "        [False, False, False, False, False]]])"
      ]
     },
     "execution_count": 41,
     "metadata": {},
     "output_type": "execute_result"
    }
   ],
   "source": [
    "#13. Does e equal to a? Why or why not?\n",
    "e == a\n",
    "print(\"\")"
   ]
  },
  {
   "cell_type": "code",
   "execution_count": null,
   "metadata": {},
   "outputs": [],
   "source": []
  }
 ],
 "metadata": {
  "kernelspec": {
   "display_name": "Python 3",
   "language": "python",
   "name": "python3"
  },
  "language_info": {
   "codemirror_mode": {
    "name": "ipython",
    "version": 3
   },
   "file_extension": ".py",
   "mimetype": "text/x-python",
   "name": "python",
   "nbconvert_exporter": "python",
   "pygments_lexer": "ipython3",
   "version": "3.7.1"
  }
 },
 "nbformat": 4,
 "nbformat_minor": 2
}
