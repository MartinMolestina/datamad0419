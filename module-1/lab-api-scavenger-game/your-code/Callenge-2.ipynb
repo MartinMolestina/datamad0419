{
 "cells": [
  {
   "cell_type": "code",
   "execution_count": 24,
   "metadata": {},
   "outputs": [],
   "source": [
    "import requests\n",
    "import json\n",
    "import datetime\n",
    "import pandas as pd"
   ]
  },
  {
   "cell_type": "code",
   "execution_count": 38,
   "metadata": {},
   "outputs": [],
   "source": [
    "#crear una variable token con mi token personal y mi usuario\n",
    "with open('.env.txt') as file:\n",
    "    token = file.read()\n",
    "user = 'MartinMolestina'"
   ]
  },
  {
   "cell_type": "code",
   "execution_count": 40,
   "metadata": {},
   "outputs": [
    {
     "name": "stdout",
     "output_type": "stream",
     "text": [
      "Los commits realizados hasta el 24-04-2019 son: 270\n",
      "Los commits realizados hasta el 24-04-2019 son: 30\n"
     ]
    }
   ],
   "source": [
    "API_source = \"https://api.github.com/repos/ironhack-datalabs/datamad0419/commits?q=usr+tk\"\n",
    "response = requests.get(API_source, auth=(user, token))\n",
    "commits = response.json()\n",
    "count = 0\n",
    "for commit in commits:\n",
    "    count += len(commit)\n",
    "now = datetime.datetime.now()\n",
    "print('Los commits realizados hasta el {} son: {}'.format(now.strftime('%d-%m-%Y'),count))\n",
    "print('Los commits realizados hasta el {} son: {}'.format(now.strftime('%d-%m-%Y'),len(commits)))\n",
    "#Segun mi analisi del JSON file, la respuesta es 30 commits, pero el numero me parece muy bajo"
   ]
  },
  {
   "cell_type": "code",
   "execution_count": null,
   "metadata": {},
   "outputs": [],
   "source": []
  }
 ],
 "metadata": {
  "kernelspec": {
   "display_name": "Python 3",
   "language": "python",
   "name": "python3"
  },
  "language_info": {
   "codemirror_mode": {
    "name": "ipython",
    "version": 3
   },
   "file_extension": ".py",
   "mimetype": "text/x-python",
   "name": "python",
   "nbconvert_exporter": "python",
   "pygments_lexer": "ipython3",
   "version": "3.7.1"
  }
 },
 "nbformat": 4,
 "nbformat_minor": 2
}
