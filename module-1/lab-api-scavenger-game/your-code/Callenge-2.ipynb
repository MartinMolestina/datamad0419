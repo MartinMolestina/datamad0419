{
 "cells": [
  {
   "cell_type": "code",
   "execution_count": 24,
   "metadata": {},
   "outputs": [],
   "source": [
    "import requests\n",
    "import json\n",
    "import datetime\n",
    "import pandas as pd"
   ]
  },
  {
   "cell_type": "code",
   "execution_count": 25,
   "metadata": {},
   "outputs": [],
   "source": [
    "#crear una variable token con mi token personal y mi usuario\n",
    "with open('.env.txt') as file:\n",
    "    token = file.read()\n",
    "user = 'MartinMolestina'"
   ]
  },
  {
   "cell_type": "code",
   "execution_count": 26,
   "metadata": {},
   "outputs": [
    {
     "name": "stdout",
     "output_type": "stream",
     "text": [
      "Los commits realizado hasta 2019-04-24 20:24 son: 30\n"
     ]
    }
   ],
   "source": [
    "API_source = \"https://api.github.com/repos/ironhack-datalabs/datamad0419/commits?q=usr+tk\"\n",
    "response = requests.get(API_source, auth=(user, token))\n",
    "commits = response.json()\n",
    "now = datetime.datetime.now()\n",
    "print('Los commits realizado hasta {} son: {}'.format(now.strftime(\"%Y-%m-%d %H:%M\"),len(commits)))\n"
   ]
  },
  {
   "cell_type": "code",
   "execution_count": null,
   "metadata": {},
   "outputs": [],
   "source": []
  }
 ],
 "metadata": {
  "kernelspec": {
   "display_name": "Python 3",
   "language": "python",
   "name": "python3"
  },
  "language_info": {
   "codemirror_mode": {
    "name": "ipython",
    "version": 3
   },
   "file_extension": ".py",
   "mimetype": "text/x-python",
   "name": "python",
   "nbconvert_exporter": "python",
   "pygments_lexer": "ipython3",
   "version": "3.7.1"
  }
 },
 "nbformat": 4,
 "nbformat_minor": 2
}
