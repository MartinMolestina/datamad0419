{
 "cells": [
  {
   "cell_type": "code",
   "execution_count": 153,
   "metadata": {},
   "outputs": [],
   "source": [
    "# used libraries\n",
    "import pandas as pd\n",
    "import numpy as np\n",
    "import matplotlib.pyplot as plt\n",
    "import seaborn as sns\n",
    "import json\n",
    "import requests\n",
    "import os\n",
    "from dotenv import load_dotenv\n"
   ]
  },
  {
   "cell_type": "code",
   "execution_count": 264,
   "metadata": {},
   "outputs": [],
   "source": [
    "# defined functions for pipeline\n",
    "def acquire():\n",
    "    raw_data = pd.read_csv('data\\database.csv')\n",
    "    return raw_data\n",
    "\n",
    "def clean_nulls(raw_data):\n",
    "    null_cols = raw_data.isnull().sum()\n",
    "    drop_cols = list(null_cols[null_cols > 1000].index)\n",
    "    data = raw_data.drop(drop_cols, axis=1)\n",
    "    data = data.drop(['Type','ID','Source','Magnitude Type','Location Source', 'Magnitude Source','Status'], axis=1)\n",
    "    return data\n",
    "\n",
    "def binning_data(data):\n",
    "    magnitude_labels = ['Very Low', 'Low', 'Moderate', 'High', 'Very High']\n",
    "    bins = pd.cut(data['Magnitude'],5, labels=magnitude_labels)\n",
    "    data['MagBin'] = bins\n",
    "    binned_data = data\n",
    "    return binned_data\n",
    "\n",
    "def filtering_data(binned_data):\n",
    "    bins_delete = ['Very Low', 'Low']\n",
    "    filtered_data = binned_data[~binned_data.MagBin.isin(bins_delete)]\n",
    "    filtered_data = filtered_data.reset_index().drop(['index'], axis=1)\n",
    "    return filtered_data\n",
    "\n",
    "\n",
    "def api_geobytes(filtered_data):\n",
    "\n",
    "    location = []\n",
    "    load_dotenv('.env')\n",
    "    key = os.environ.get(\"oc_key\")\n",
    "    for i in range(len(filtered_data.head(10))):\n",
    "        try:\n",
    "            lat = filtered_data['Latitude'][i]\n",
    "            long = filtered_data['Longitude'][i]\n",
    "            url = ('https://api.opencagedata.com/geocode/v1/json?q={}%2C{}&key={}&language=en&pretty=1&no_annotations=1'.format(lat,long,key))\n",
    "            response = requests.get(url)\n",
    "            results = response.json()\n",
    "            continent = results['results'][0]['components']['continent']\n",
    "            country = results['results'][0]['components']['country']\n",
    "            state = results['results'][0]['components']['state']\n",
    "        except:\n",
    "            continent = 'No continent'\n",
    "            country = 'No country'\n",
    "            state = 'No state'\n",
    "        location.append([continent, country, state])\n",
    "        locdf = pd.DataFrame(location, columns = [continent, country, state])\n",
    "    return locdf\n"
   ]
  },
  {
   "cell_type": "code",
   "execution_count": 265,
   "metadata": {},
   "outputs": [
    {
     "name": "stdout",
     "output_type": "stream",
     "text": [
      "    No continent   No country            No state\n",
      "0           Asia    Indonesia        North Maluku\n",
      "1   No continent   No country            No state\n",
      "2  North America          USA              Alaska\n",
      "3  South America        Chile  Antofagasta Region\n",
      "4           Asia  Afghanistan          Badakhshan\n",
      "5  South America        Chile   Valparaiso Region\n",
      "6   No continent   No country            No state\n",
      "7        Oceania      Vanuatu               Sanma\n",
      "8   No continent   No country            No state\n",
      "9   No continent   No country            No state\n"
     ]
    }
   ],
   "source": [
    "if __name__ == '__main__':\n",
    "    raw_data = acquire()\n",
    "    data = clean_nulls(raw_data)\n",
    "    binned_data = binning_data(data)\n",
    "    filtered_data = filtering_data(binned_data)\n",
    "    print(api_geobytes(filtered_data))"
   ]
  },
  {
   "cell_type": "code",
   "execution_count": null,
   "metadata": {},
   "outputs": [],
   "source": [
    "\n",
    "\n",
    "    \n",
    "    \n",
    "    "
   ]
  },
  {
   "cell_type": "code",
   "execution_count": 250,
   "metadata": {},
   "outputs": [
    {
     "data": {
      "text/html": [
       "<div>\n",
       "<style scoped>\n",
       "    .dataframe tbody tr th:only-of-type {\n",
       "        vertical-align: middle;\n",
       "    }\n",
       "\n",
       "    .dataframe tbody tr th {\n",
       "        vertical-align: top;\n",
       "    }\n",
       "\n",
       "    .dataframe thead th {\n",
       "        text-align: right;\n",
       "    }\n",
       "</style>\n",
       "<table border=\"1\" class=\"dataframe\">\n",
       "  <thead>\n",
       "    <tr style=\"text-align: right;\">\n",
       "      <th></th>\n",
       "      <th>Date</th>\n",
       "      <th>Time</th>\n",
       "      <th>Latitude</th>\n",
       "      <th>Longitude</th>\n",
       "      <th>Depth</th>\n",
       "      <th>Magnitude</th>\n",
       "      <th>MagBin</th>\n",
       "    </tr>\n",
       "  </thead>\n",
       "  <tbody>\n",
       "    <tr>\n",
       "      <th>0</th>\n",
       "      <td>01/24/1965</td>\n",
       "      <td>00:11:17</td>\n",
       "      <td>-2.608</td>\n",
       "      <td>125.952</td>\n",
       "      <td>20.0</td>\n",
       "      <td>8.2</td>\n",
       "      <td>High</td>\n",
       "    </tr>\n",
       "    <tr>\n",
       "      <th>1</th>\n",
       "      <td>02/04/1965</td>\n",
       "      <td>05:01:22</td>\n",
       "      <td>51.251</td>\n",
       "      <td>178.715</td>\n",
       "      <td>30.3</td>\n",
       "      <td>8.7</td>\n",
       "      <td>Very High</td>\n",
       "    </tr>\n",
       "    <tr>\n",
       "      <th>2</th>\n",
       "      <td>02/04/1965</td>\n",
       "      <td>08:40:44</td>\n",
       "      <td>51.443</td>\n",
       "      <td>179.605</td>\n",
       "      <td>30.0</td>\n",
       "      <td>7.3</td>\n",
       "      <td>Moderate</td>\n",
       "    </tr>\n",
       "    <tr>\n",
       "      <th>3</th>\n",
       "      <td>02/23/1965</td>\n",
       "      <td>22:11:47</td>\n",
       "      <td>-25.633</td>\n",
       "      <td>-70.679</td>\n",
       "      <td>35.0</td>\n",
       "      <td>7.0</td>\n",
       "      <td>Moderate</td>\n",
       "    </tr>\n",
       "    <tr>\n",
       "      <th>4</th>\n",
       "      <td>03/14/1965</td>\n",
       "      <td>15:53:07</td>\n",
       "      <td>36.405</td>\n",
       "      <td>70.724</td>\n",
       "      <td>207.8</td>\n",
       "      <td>7.4</td>\n",
       "      <td>Moderate</td>\n",
       "    </tr>\n",
       "  </tbody>\n",
       "</table>\n",
       "</div>"
      ],
      "text/plain": [
       "         Date      Time  Latitude  Longitude  Depth  Magnitude     MagBin\n",
       "0  01/24/1965  00:11:17    -2.608    125.952   20.0        8.2       High\n",
       "1  02/04/1965  05:01:22    51.251    178.715   30.3        8.7  Very High\n",
       "2  02/04/1965  08:40:44    51.443    179.605   30.0        7.3   Moderate\n",
       "3  02/23/1965  22:11:47   -25.633    -70.679   35.0        7.0   Moderate\n",
       "4  03/14/1965  15:53:07    36.405     70.724  207.8        7.4   Moderate"
      ]
     },
     "execution_count": 250,
     "metadata": {},
     "output_type": "execute_result"
    }
   ],
   "source": [
    "filtered_data.head()"
   ]
  },
  {
   "cell_type": "code",
   "execution_count": null,
   "metadata": {},
   "outputs": [],
   "source": []
  },
  {
   "cell_type": "code",
   "execution_count": null,
   "metadata": {},
   "outputs": [],
   "source": []
  },
  {
   "cell_type": "code",
   "execution_count": null,
   "metadata": {},
   "outputs": [],
   "source": []
  }
 ],
 "metadata": {
  "kernelspec": {
   "display_name": "Python 3",
   "language": "python",
   "name": "python3"
  },
  "language_info": {
   "codemirror_mode": {
    "name": "ipython",
    "version": 3
   },
   "file_extension": ".py",
   "mimetype": "text/x-python",
   "name": "python",
   "nbconvert_exporter": "python",
   "pygments_lexer": "ipython3",
   "version": "3.7.1"
  }
 },
 "nbformat": 4,
 "nbformat_minor": 2
}
