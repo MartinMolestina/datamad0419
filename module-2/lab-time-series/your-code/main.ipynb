{
 "cells": [
  {
   "cell_type": "markdown",
   "metadata": {},
   "source": [
    "# Before your start:\n",
    "- Read the README.md file\n",
    "- Comment as much as you can and use the resources (README.md file)\n",
    "- Happy learning!"
   ]
  },
  {
   "cell_type": "code",
   "execution_count": 12,
   "metadata": {},
   "outputs": [],
   "source": [
    "# Import numpy and pandas\n",
    "import numpy as np\n",
    "import pandas as pd\n",
    "\n",
    "\n",
    "#Time series \n",
    "import statsmodels.api as sm\n"
   ]
  },
  {
   "cell_type": "markdown",
   "metadata": {},
   "source": [
    "# Challenge 1 - Loading and Evaluating The Data\n",
    "\n",
    "In this lab, we will look at a dataset of sensor data from a cellular phone. The phone was carried in the subject's pocket for a few minutes while they walked around.\n",
    "\n",
    "To load the data, run the code below."
   ]
  },
  {
   "cell_type": "code",
   "execution_count": 2,
   "metadata": {},
   "outputs": [],
   "source": [
    "# Run this code:\n",
    "\n",
    "sensor = pd.read_csv('../sub_1.csv')\n",
    "sensor.drop(columns=['Unnamed: 0'], inplace=True)"
   ]
  },
  {
   "cell_type": "markdown",
   "metadata": {},
   "source": [
    "Examine the data using the `head` function."
   ]
  },
  {
   "cell_type": "code",
   "execution_count": 3,
   "metadata": {},
   "outputs": [
    {
     "data": {
      "text/html": [
       "<div>\n",
       "<style scoped>\n",
       "    .dataframe tbody tr th:only-of-type {\n",
       "        vertical-align: middle;\n",
       "    }\n",
       "\n",
       "    .dataframe tbody tr th {\n",
       "        vertical-align: top;\n",
       "    }\n",
       "\n",
       "    .dataframe thead th {\n",
       "        text-align: right;\n",
       "    }\n",
       "</style>\n",
       "<table border=\"1\" class=\"dataframe\">\n",
       "  <thead>\n",
       "    <tr style=\"text-align: right;\">\n",
       "      <th></th>\n",
       "      <th>attitude.roll</th>\n",
       "      <th>attitude.pitch</th>\n",
       "      <th>attitude.yaw</th>\n",
       "      <th>gravity.x</th>\n",
       "      <th>gravity.y</th>\n",
       "      <th>gravity.z</th>\n",
       "      <th>rotationRate.x</th>\n",
       "      <th>rotationRate.y</th>\n",
       "      <th>rotationRate.z</th>\n",
       "      <th>userAcceleration.x</th>\n",
       "      <th>userAcceleration.y</th>\n",
       "      <th>userAcceleration.z</th>\n",
       "    </tr>\n",
       "  </thead>\n",
       "  <tbody>\n",
       "    <tr>\n",
       "      <th>0</th>\n",
       "      <td>1.528132</td>\n",
       "      <td>-0.733896</td>\n",
       "      <td>0.696372</td>\n",
       "      <td>0.741895</td>\n",
       "      <td>0.669768</td>\n",
       "      <td>-0.031672</td>\n",
       "      <td>0.316738</td>\n",
       "      <td>0.778180</td>\n",
       "      <td>1.082764</td>\n",
       "      <td>0.294894</td>\n",
       "      <td>-0.184493</td>\n",
       "      <td>0.377542</td>\n",
       "    </tr>\n",
       "    <tr>\n",
       "      <th>1</th>\n",
       "      <td>1.527992</td>\n",
       "      <td>-0.716987</td>\n",
       "      <td>0.677762</td>\n",
       "      <td>0.753099</td>\n",
       "      <td>0.657116</td>\n",
       "      <td>-0.032255</td>\n",
       "      <td>0.842032</td>\n",
       "      <td>0.424446</td>\n",
       "      <td>0.643574</td>\n",
       "      <td>0.219405</td>\n",
       "      <td>0.035846</td>\n",
       "      <td>0.114866</td>\n",
       "    </tr>\n",
       "    <tr>\n",
       "      <th>2</th>\n",
       "      <td>1.527765</td>\n",
       "      <td>-0.706999</td>\n",
       "      <td>0.670951</td>\n",
       "      <td>0.759611</td>\n",
       "      <td>0.649555</td>\n",
       "      <td>-0.032707</td>\n",
       "      <td>-0.138143</td>\n",
       "      <td>-0.040741</td>\n",
       "      <td>0.343563</td>\n",
       "      <td>0.010714</td>\n",
       "      <td>0.134701</td>\n",
       "      <td>-0.167808</td>\n",
       "    </tr>\n",
       "    <tr>\n",
       "      <th>3</th>\n",
       "      <td>1.516768</td>\n",
       "      <td>-0.704678</td>\n",
       "      <td>0.675735</td>\n",
       "      <td>0.760709</td>\n",
       "      <td>0.647788</td>\n",
       "      <td>-0.041140</td>\n",
       "      <td>-0.025005</td>\n",
       "      <td>-1.048717</td>\n",
       "      <td>0.035860</td>\n",
       "      <td>-0.008389</td>\n",
       "      <td>0.136788</td>\n",
       "      <td>0.094958</td>\n",
       "    </tr>\n",
       "    <tr>\n",
       "      <th>4</th>\n",
       "      <td>1.493941</td>\n",
       "      <td>-0.703918</td>\n",
       "      <td>0.672994</td>\n",
       "      <td>0.760062</td>\n",
       "      <td>0.647210</td>\n",
       "      <td>-0.058530</td>\n",
       "      <td>0.114253</td>\n",
       "      <td>-0.912890</td>\n",
       "      <td>0.047341</td>\n",
       "      <td>0.199441</td>\n",
       "      <td>0.353996</td>\n",
       "      <td>-0.044299</td>\n",
       "    </tr>\n",
       "  </tbody>\n",
       "</table>\n",
       "</div>"
      ],
      "text/plain": [
       "   attitude.roll  attitude.pitch  attitude.yaw  gravity.x  gravity.y  \\\n",
       "0       1.528132       -0.733896      0.696372   0.741895   0.669768   \n",
       "1       1.527992       -0.716987      0.677762   0.753099   0.657116   \n",
       "2       1.527765       -0.706999      0.670951   0.759611   0.649555   \n",
       "3       1.516768       -0.704678      0.675735   0.760709   0.647788   \n",
       "4       1.493941       -0.703918      0.672994   0.760062   0.647210   \n",
       "\n",
       "   gravity.z  rotationRate.x  rotationRate.y  rotationRate.z  \\\n",
       "0  -0.031672        0.316738        0.778180        1.082764   \n",
       "1  -0.032255        0.842032        0.424446        0.643574   \n",
       "2  -0.032707       -0.138143       -0.040741        0.343563   \n",
       "3  -0.041140       -0.025005       -1.048717        0.035860   \n",
       "4  -0.058530        0.114253       -0.912890        0.047341   \n",
       "\n",
       "   userAcceleration.x  userAcceleration.y  userAcceleration.z  \n",
       "0            0.294894           -0.184493            0.377542  \n",
       "1            0.219405            0.035846            0.114866  \n",
       "2            0.010714            0.134701           -0.167808  \n",
       "3           -0.008389            0.136788            0.094958  \n",
       "4            0.199441            0.353996           -0.044299  "
      ]
     },
     "execution_count": 3,
     "metadata": {},
     "output_type": "execute_result"
    }
   ],
   "source": [
    "# Your code here:\n",
    "sensor.head()\n"
   ]
  },
  {
   "cell_type": "markdown",
   "metadata": {},
   "source": [
    "Check whether there is any missing data. If there is any missing data, remove the rows containing missing data."
   ]
  },
  {
   "cell_type": "code",
   "execution_count": 4,
   "metadata": {},
   "outputs": [
    {
     "data": {
      "text/plain": [
       "False"
      ]
     },
     "execution_count": 4,
     "metadata": {},
     "output_type": "execute_result"
    }
   ],
   "source": [
    "# Your code here:\n",
    "sensor.isnull().values.any()\n"
   ]
  },
  {
   "cell_type": "markdown",
   "metadata": {},
   "source": [
    "How many rows and columns are in our data?"
   ]
  },
  {
   "cell_type": "code",
   "execution_count": 8,
   "metadata": {},
   "outputs": [
    {
     "data": {
      "text/plain": [
       "(1751, 12)"
      ]
     },
     "execution_count": 8,
     "metadata": {},
     "output_type": "execute_result"
    }
   ],
   "source": [
    "# Your code here:\n",
    "\n",
    "shape = sensor.shape\n",
    "shape"
   ]
  },
  {
   "cell_type": "markdown",
   "metadata": {},
   "source": [
    "To perform time series analysis on the data, we must change the index from a range index to a time series index. In the cell below, create a time series index using the `pd.date_range` function. Create a time series index starting at 1/1/2018 00:00:00 and ending at 1/1/2018 00:29:10. The number of periods is equal to the number of rows in `sensor`. The frequency should be set to `infer`."
   ]
  },
  {
   "cell_type": "code",
   "execution_count": 10,
   "metadata": {},
   "outputs": [
    {
     "data": {
      "text/plain": [
       "DatetimeIndex(['2018-01-01 00:00:00', '2018-01-01 00:00:01',\n",
       "               '2018-01-01 00:00:02', '2018-01-01 00:00:03',\n",
       "               '2018-01-01 00:00:04', '2018-01-01 00:00:05',\n",
       "               '2018-01-01 00:00:06', '2018-01-01 00:00:07',\n",
       "               '2018-01-01 00:00:08', '2018-01-01 00:00:09',\n",
       "               ...\n",
       "               '2018-01-01 00:29:01', '2018-01-01 00:29:02',\n",
       "               '2018-01-01 00:29:03', '2018-01-01 00:29:04',\n",
       "               '2018-01-01 00:29:05', '2018-01-01 00:29:06',\n",
       "               '2018-01-01 00:29:07', '2018-01-01 00:29:08',\n",
       "               '2018-01-01 00:29:09', '2018-01-01 00:29:10'],\n",
       "              dtype='datetime64[ns]', length=1751, freq=None)"
      ]
     },
     "execution_count": 10,
     "metadata": {},
     "output_type": "execute_result"
    }
   ],
   "source": [
    "# Your code here:\n",
    "pd.date_range(start='1/1/2018 00:00:00', end='1/1/2018 00:29:10', periods=shape[0])\n"
   ]
  },
  {
   "cell_type": "markdown",
   "metadata": {},
   "source": [
    "Assign the time series index to the dataframe's index."
   ]
  },
  {
   "cell_type": "code",
   "execution_count": 11,
   "metadata": {},
   "outputs": [
    {
     "data": {
      "text/html": [
       "<div>\n",
       "<style scoped>\n",
       "    .dataframe tbody tr th:only-of-type {\n",
       "        vertical-align: middle;\n",
       "    }\n",
       "\n",
       "    .dataframe tbody tr th {\n",
       "        vertical-align: top;\n",
       "    }\n",
       "\n",
       "    .dataframe thead th {\n",
       "        text-align: right;\n",
       "    }\n",
       "</style>\n",
       "<table border=\"1\" class=\"dataframe\">\n",
       "  <thead>\n",
       "    <tr style=\"text-align: right;\">\n",
       "      <th></th>\n",
       "      <th>attitude.roll</th>\n",
       "      <th>attitude.pitch</th>\n",
       "      <th>attitude.yaw</th>\n",
       "      <th>gravity.x</th>\n",
       "      <th>gravity.y</th>\n",
       "      <th>gravity.z</th>\n",
       "      <th>rotationRate.x</th>\n",
       "      <th>rotationRate.y</th>\n",
       "      <th>rotationRate.z</th>\n",
       "      <th>userAcceleration.x</th>\n",
       "      <th>userAcceleration.y</th>\n",
       "      <th>userAcceleration.z</th>\n",
       "    </tr>\n",
       "    <tr>\n",
       "      <th>Datetime</th>\n",
       "      <th></th>\n",
       "      <th></th>\n",
       "      <th></th>\n",
       "      <th></th>\n",
       "      <th></th>\n",
       "      <th></th>\n",
       "      <th></th>\n",
       "      <th></th>\n",
       "      <th></th>\n",
       "      <th></th>\n",
       "      <th></th>\n",
       "      <th></th>\n",
       "    </tr>\n",
       "  </thead>\n",
       "  <tbody>\n",
       "    <tr>\n",
       "      <th>2018-01-01 00:00:00</th>\n",
       "      <td>1.528132</td>\n",
       "      <td>-0.733896</td>\n",
       "      <td>0.696372</td>\n",
       "      <td>0.741895</td>\n",
       "      <td>0.669768</td>\n",
       "      <td>-0.031672</td>\n",
       "      <td>0.316738</td>\n",
       "      <td>0.778180</td>\n",
       "      <td>1.082764</td>\n",
       "      <td>0.294894</td>\n",
       "      <td>-0.184493</td>\n",
       "      <td>0.377542</td>\n",
       "    </tr>\n",
       "    <tr>\n",
       "      <th>2018-01-01 00:00:01</th>\n",
       "      <td>1.527992</td>\n",
       "      <td>-0.716987</td>\n",
       "      <td>0.677762</td>\n",
       "      <td>0.753099</td>\n",
       "      <td>0.657116</td>\n",
       "      <td>-0.032255</td>\n",
       "      <td>0.842032</td>\n",
       "      <td>0.424446</td>\n",
       "      <td>0.643574</td>\n",
       "      <td>0.219405</td>\n",
       "      <td>0.035846</td>\n",
       "      <td>0.114866</td>\n",
       "    </tr>\n",
       "    <tr>\n",
       "      <th>2018-01-01 00:00:02</th>\n",
       "      <td>1.527765</td>\n",
       "      <td>-0.706999</td>\n",
       "      <td>0.670951</td>\n",
       "      <td>0.759611</td>\n",
       "      <td>0.649555</td>\n",
       "      <td>-0.032707</td>\n",
       "      <td>-0.138143</td>\n",
       "      <td>-0.040741</td>\n",
       "      <td>0.343563</td>\n",
       "      <td>0.010714</td>\n",
       "      <td>0.134701</td>\n",
       "      <td>-0.167808</td>\n",
       "    </tr>\n",
       "    <tr>\n",
       "      <th>2018-01-01 00:00:03</th>\n",
       "      <td>1.516768</td>\n",
       "      <td>-0.704678</td>\n",
       "      <td>0.675735</td>\n",
       "      <td>0.760709</td>\n",
       "      <td>0.647788</td>\n",
       "      <td>-0.041140</td>\n",
       "      <td>-0.025005</td>\n",
       "      <td>-1.048717</td>\n",
       "      <td>0.035860</td>\n",
       "      <td>-0.008389</td>\n",
       "      <td>0.136788</td>\n",
       "      <td>0.094958</td>\n",
       "    </tr>\n",
       "    <tr>\n",
       "      <th>2018-01-01 00:00:04</th>\n",
       "      <td>1.493941</td>\n",
       "      <td>-0.703918</td>\n",
       "      <td>0.672994</td>\n",
       "      <td>0.760062</td>\n",
       "      <td>0.647210</td>\n",
       "      <td>-0.058530</td>\n",
       "      <td>0.114253</td>\n",
       "      <td>-0.912890</td>\n",
       "      <td>0.047341</td>\n",
       "      <td>0.199441</td>\n",
       "      <td>0.353996</td>\n",
       "      <td>-0.044299</td>\n",
       "    </tr>\n",
       "  </tbody>\n",
       "</table>\n",
       "</div>"
      ],
      "text/plain": [
       "                     attitude.roll  attitude.pitch  attitude.yaw  gravity.x  \\\n",
       "Datetime                                                                      \n",
       "2018-01-01 00:00:00       1.528132       -0.733896      0.696372   0.741895   \n",
       "2018-01-01 00:00:01       1.527992       -0.716987      0.677762   0.753099   \n",
       "2018-01-01 00:00:02       1.527765       -0.706999      0.670951   0.759611   \n",
       "2018-01-01 00:00:03       1.516768       -0.704678      0.675735   0.760709   \n",
       "2018-01-01 00:00:04       1.493941       -0.703918      0.672994   0.760062   \n",
       "\n",
       "                     gravity.y  gravity.z  rotationRate.x  rotationRate.y  \\\n",
       "Datetime                                                                    \n",
       "2018-01-01 00:00:00   0.669768  -0.031672        0.316738        0.778180   \n",
       "2018-01-01 00:00:01   0.657116  -0.032255        0.842032        0.424446   \n",
       "2018-01-01 00:00:02   0.649555  -0.032707       -0.138143       -0.040741   \n",
       "2018-01-01 00:00:03   0.647788  -0.041140       -0.025005       -1.048717   \n",
       "2018-01-01 00:00:04   0.647210  -0.058530        0.114253       -0.912890   \n",
       "\n",
       "                     rotationRate.z  userAcceleration.x  userAcceleration.y  \\\n",
       "Datetime                                                                      \n",
       "2018-01-01 00:00:00        1.082764            0.294894           -0.184493   \n",
       "2018-01-01 00:00:01        0.643574            0.219405            0.035846   \n",
       "2018-01-01 00:00:02        0.343563            0.010714            0.134701   \n",
       "2018-01-01 00:00:03        0.035860           -0.008389            0.136788   \n",
       "2018-01-01 00:00:04        0.047341            0.199441            0.353996   \n",
       "\n",
       "                     userAcceleration.z  \n",
       "Datetime                                 \n",
       "2018-01-01 00:00:00            0.377542  \n",
       "2018-01-01 00:00:01            0.114866  \n",
       "2018-01-01 00:00:02           -0.167808  \n",
       "2018-01-01 00:00:03            0.094958  \n",
       "2018-01-01 00:00:04           -0.044299  "
      ]
     },
     "execution_count": 11,
     "metadata": {},
     "output_type": "execute_result"
    }
   ],
   "source": [
    "# Your code here:\n",
    "sensor['Datetime'] = pd.date_range(start='1/1/2018 00:00:00', end='1/1/2018 00:29:10', periods=shape[0])\n",
    "sensor = sensor.set_index('Datetime')\n",
    "sensor.head()\n",
    "\n"
   ]
  },
  {
   "cell_type": "markdown",
   "metadata": {},
   "source": [
    "Our next step is to decompose the time series and evaluate the patterns in the data. Load the `statsmodels.api` submodule and plot the decomposed plot of `userAcceleration.x`. Set `freq=60` in the `seasonal_decompose` function. Your graph should look like the one below.\n",
    "\n",
    "![time series decomposition](../images/tsa_decompose.png)"
   ]
  },
  {
   "cell_type": "code",
   "execution_count": 17,
   "metadata": {},
   "outputs": [
    {
     "data": {
      "image/png": "[encoded data removed]",
      "text/plain": [
       "<Figure size 432x288 with 4 Axes>"
      ]
     },
     "metadata": {
      "needs_background": "light"
     },
     "output_type": "display_data"
    }
   ],
   "source": [
    "# Your code here:\n",
    "res = sm.tsa.seasonal_decompose(sensor['userAcceleration.x'], freq=60)\n",
    "resplot = res.plot()\n"
   ]
  },
  {
   "cell_type": "markdown",
   "metadata": {},
   "source": [
    "Plot the decomposed time series of `rotationRate.x` also with a frequency of 60."
   ]
  },
  {
   "cell_type": "code",
   "execution_count": 25,
   "metadata": {},
   "outputs": [
    {
     "data": {
      "image/png": "[encoded data removed]",
      "text/plain": [
       "<Figure size 432x288 with 4 Axes>"
      ]
     },
     "metadata": {
      "needs_background": "light"
     },
     "output_type": "display_data"
    }
   ],
   "source": [
    "res2 = sm.tsa.seasonal_decompose(sensor['rotationRate.x'], freq=60)\n",
    "resplot = res2.plot()\n"
   ]
  },
  {
   "cell_type": "markdown",
   "metadata": {},
   "source": [
    "# Challenge 2 - Modelling the Data\n",
    "\n",
    "To model our data, we should look at a few assumptions. First, let's plot the `lag_plot` to detect any autocorrelation. Do this for `userAcceleration.x`"
   ]
  },
  {
   "cell_type": "code",
   "execution_count": 27,
   "metadata": {},
   "outputs": [
    {
     "data": {
      "text/plain": [
       "<matplotlib.axes._subplots.AxesSubplot at 0x7ff063f35e48>"
      ]
     },
     "execution_count": 27,
     "metadata": {},
     "output_type": "execute_result"
    },
    {
     "data": {
      "image/png": "[encoded data removed]",
      "text/plain": [
       "<Figure size 432x288 with 1 Axes>"
      ]
     },
     "metadata": {
      "needs_background": "light"
     },
     "output_type": "display_data"
    }
   ],
   "source": [
    "# Your code here:\n",
    "\n",
    "from pandas.plotting import lag_plot\n",
    "\n",
    "lag_plot(sensor['userAcceleration.x'])\n"
   ]
  },
  {
   "cell_type": "markdown",
   "metadata": {},
   "source": [
    "Create a lag plot for `rotationRate.x`"
   ]
  },
  {
   "cell_type": "code",
   "execution_count": 28,
   "metadata": {},
   "outputs": [
    {
     "data": {
      "text/plain": [
       "<matplotlib.axes._subplots.AxesSubplot at 0x7ff063fa0748>"
      ]
     },
     "execution_count": 28,
     "metadata": {},
     "output_type": "execute_result"
    },
    {
     "data": {
      "image/png": "[encoded data removed]",
      "text/plain": [
       "<Figure size 432x288 with 1 Axes>"
      ]
     },
     "metadata": {
      "needs_background": "light"
     },
     "output_type": "display_data"
    }
   ],
   "source": [
    "# Your code here:\n",
    "\n",
    "lag_plot(sensor['rotationRate.x'])\n"
   ]
  },
  {
   "cell_type": "markdown",
   "metadata": {},
   "source": [
    "What are your conclusions from both visualizations?"
   ]
  },
  {
   "cell_type": "code",
   "execution_count": 35,
   "metadata": {},
   "outputs": [
    {
     "data": {
      "text/plain": [
       "'\\nBoth series have a linear behaviour\\n'"
      ]
     },
     "execution_count": 35,
     "metadata": {},
     "output_type": "execute_result"
    }
   ],
   "source": [
    "# Your conclusions here:\n",
    "'''\n",
    "Both series have a linear behaviour\n",
    "'''\n"
   ]
  },
  {
   "cell_type": "markdown",
   "metadata": {},
   "source": [
    "The next step will be to test both variables for stationarity. Perform the Augmented Dickey Fuller test on both variables below."
   ]
  },
  {
   "cell_type": "code",
   "execution_count": 33,
   "metadata": {},
   "outputs": [
    {
     "name": "stdout",
     "output_type": "stream",
     "text": [
      "A.D. Fuller test for Acceleration X: 2.823439483037483e-30\n",
      "A.D. Fuller test for Rotation Rate X: 6.3202303359123905e-06\n"
     ]
    }
   ],
   "source": [
    "# Your code here:\n",
    "from statsmodels.tsa.stattools import adfuller\n",
    "\n",
    "print('A.D. Fuller test for Acceleration X: {}'.format(adfuller(sensor['userAcceleration.x'])[1]))\n",
    "print('A.D. Fuller test for Rotation Rate X: {}'.format(adfuller(sensor['rotationRate.x'])[1]))\n"
   ]
  },
  {
   "cell_type": "markdown",
   "metadata": {},
   "source": [
    "What are your conclusions from this test?"
   ]
  },
  {
   "cell_type": "code",
   "execution_count": 34,
   "metadata": {},
   "outputs": [
    {
     "data": {
      "text/plain": [
       "'\\nBoth test have very small numbers.  We can confirm that the data is in fact stationary\\n'"
      ]
     },
     "execution_count": 34,
     "metadata": {},
     "output_type": "execute_result"
    }
   ],
   "source": [
    "# Your conclusions here:\n",
    "'''\n",
    "Both test have very small numbers.  We can confirm that the data is in fact stationary\n",
    "'''\n"
   ]
  },
  {
   "cell_type": "markdown",
   "metadata": {},
   "source": [
    "Finally, we'll create an ARMA model for `userAcceleration.x`. Load the `ARMA` function from `statsmodels`. The order of the model is (2, 1). Split the data to train and test. Use the last 10 observations as the test set and all other observations as the training set. "
   ]
  },
  {
   "cell_type": "code",
   "execution_count": 66,
   "metadata": {},
   "outputs": [
    {
     "name": "stderr",
     "output_type": "stream",
     "text": [
      "/usr/local/lib/python3.6/dist-packages/statsmodels/tsa/base/tsa_model.py:171: ValueWarning: No frequency information was provided, so inferred frequency S will be used.\n",
      "  % freq, ValueWarning)\n"
     ]
    },
    {
     "data": {
      "text/html": [
       "<div>\n",
       "<style scoped>\n",
       "    .dataframe tbody tr th:only-of-type {\n",
       "        vertical-align: middle;\n",
       "    }\n",
       "\n",
       "    .dataframe tbody tr th {\n",
       "        vertical-align: top;\n",
       "    }\n",
       "\n",
       "    .dataframe thead th {\n",
       "        text-align: right;\n",
       "    }\n",
       "</style>\n",
       "<table border=\"1\" class=\"dataframe\">\n",
       "  <thead>\n",
       "    <tr style=\"text-align: right;\">\n",
       "      <th></th>\n",
       "      <th>0</th>\n",
       "    </tr>\n",
       "  </thead>\n",
       "  <tbody>\n",
       "    <tr>\n",
       "      <th>2018-01-01 00:29:01</th>\n",
       "      <td>0.172776</td>\n",
       "    </tr>\n",
       "    <tr>\n",
       "      <th>2018-01-01 00:29:02</th>\n",
       "      <td>0.115159</td>\n",
       "    </tr>\n",
       "    <tr>\n",
       "      <th>2018-01-01 00:29:03</th>\n",
       "      <td>-0.008270</td>\n",
       "    </tr>\n",
       "    <tr>\n",
       "      <th>2018-01-01 00:29:04</th>\n",
       "      <td>-0.186762</td>\n",
       "    </tr>\n",
       "    <tr>\n",
       "      <th>2018-01-01 00:29:05</th>\n",
       "      <td>-0.229210</td>\n",
       "    </tr>\n",
       "    <tr>\n",
       "      <th>2018-01-01 00:29:06</th>\n",
       "      <td>-0.136440</td>\n",
       "    </tr>\n",
       "    <tr>\n",
       "      <th>2018-01-01 00:29:07</th>\n",
       "      <td>-0.162658</td>\n",
       "    </tr>\n",
       "    <tr>\n",
       "      <th>2018-01-01 00:29:08</th>\n",
       "      <td>0.035719</td>\n",
       "    </tr>\n",
       "    <tr>\n",
       "      <th>2018-01-01 00:29:09</th>\n",
       "      <td>-0.043530</td>\n",
       "    </tr>\n",
       "    <tr>\n",
       "      <th>2018-01-01 00:29:10</th>\n",
       "      <td>0.008415</td>\n",
       "    </tr>\n",
       "  </tbody>\n",
       "</table>\n",
       "</div>"
      ],
      "text/plain": [
       "                            0\n",
       "2018-01-01 00:29:01  0.172776\n",
       "2018-01-01 00:29:02  0.115159\n",
       "2018-01-01 00:29:03 -0.008270\n",
       "2018-01-01 00:29:04 -0.186762\n",
       "2018-01-01 00:29:05 -0.229210\n",
       "2018-01-01 00:29:06 -0.136440\n",
       "2018-01-01 00:29:07 -0.162658\n",
       "2018-01-01 00:29:08  0.035719\n",
       "2018-01-01 00:29:09 -0.043530\n",
       "2018-01-01 00:29:10  0.008415"
      ]
     },
     "execution_count": 66,
     "metadata": {},
     "output_type": "execute_result"
    }
   ],
   "source": [
    "# Your code here:\n",
    "from statsmodels.tsa.arima_model import ARMA\n",
    "\n",
    "model = ARMA(sensor['userAcceleration.x'], order=(2, 1))\n",
    "model_fit = model.fit(disp=False)\n",
    "predictions = model_fit.predict(len(sensor['userAcceleration.x'])-10, len(sensor['userAcceleration.x'])-1)\n",
    "predictions = pd.DataFrame(predictions)\n",
    "predictions"
   ]
  },
  {
   "cell_type": "markdown",
   "metadata": {},
   "source": [
    "To compare our predictions with the observed data, we can compute the RMSE (Root Mean Squared Error) from the submodule `statsmodels.tools.eval_measures`. You can read more about this function [here](https://www.statsmodels.org/dev/generated/statsmodels.tools.eval_measures.rmse.html). Compute the RMSE for the last 10 rows of the data by comparing the observed and predicted data for the `userAcceleration.x` column."
   ]
  },
  {
   "cell_type": "code",
   "execution_count": 67,
   "metadata": {},
   "outputs": [
    {
     "data": {
      "text/html": [
       "<div>\n",
       "<style scoped>\n",
       "    .dataframe tbody tr th:only-of-type {\n",
       "        vertical-align: middle;\n",
       "    }\n",
       "\n",
       "    .dataframe tbody tr th {\n",
       "        vertical-align: top;\n",
       "    }\n",
       "\n",
       "    .dataframe thead th {\n",
       "        text-align: right;\n",
       "    }\n",
       "</style>\n",
       "<table border=\"1\" class=\"dataframe\">\n",
       "  <thead>\n",
       "    <tr style=\"text-align: right;\">\n",
       "      <th></th>\n",
       "      <th>Predicted</th>\n",
       "      <th>Measured</th>\n",
       "      <th>Error</th>\n",
       "    </tr>\n",
       "  </thead>\n",
       "  <tbody>\n",
       "    <tr>\n",
       "      <th>2018-01-01 00:29:01</th>\n",
       "      <td>0.172776</td>\n",
       "      <td>0.149749</td>\n",
       "      <td>0.023027</td>\n",
       "    </tr>\n",
       "    <tr>\n",
       "      <th>2018-01-01 00:29:02</th>\n",
       "      <td>0.115159</td>\n",
       "      <td>0.038461</td>\n",
       "      <td>0.076698</td>\n",
       "    </tr>\n",
       "    <tr>\n",
       "      <th>2018-01-01 00:29:03</th>\n",
       "      <td>-0.008270</td>\n",
       "      <td>-0.169175</td>\n",
       "      <td>0.160905</td>\n",
       "    </tr>\n",
       "    <tr>\n",
       "      <th>2018-01-01 00:29:04</th>\n",
       "      <td>-0.186762</td>\n",
       "      <td>-0.300361</td>\n",
       "      <td>0.113599</td>\n",
       "    </tr>\n",
       "    <tr>\n",
       "      <th>2018-01-01 00:29:05</th>\n",
       "      <td>-0.229210</td>\n",
       "      <td>-0.270174</td>\n",
       "      <td>0.040964</td>\n",
       "    </tr>\n",
       "    <tr>\n",
       "      <th>2018-01-01 00:29:06</th>\n",
       "      <td>-0.136440</td>\n",
       "      <td>-0.268367</td>\n",
       "      <td>0.131927</td>\n",
       "    </tr>\n",
       "    <tr>\n",
       "      <th>2018-01-01 00:29:07</th>\n",
       "      <td>-0.162658</td>\n",
       "      <td>-0.102444</td>\n",
       "      <td>-0.060214</td>\n",
       "    </tr>\n",
       "    <tr>\n",
       "      <th>2018-01-01 00:29:08</th>\n",
       "      <td>0.035719</td>\n",
       "      <td>-0.085590</td>\n",
       "      <td>0.121309</td>\n",
       "    </tr>\n",
       "    <tr>\n",
       "      <th>2018-01-01 00:29:09</th>\n",
       "      <td>-0.043530</td>\n",
       "      <td>-0.048105</td>\n",
       "      <td>0.004575</td>\n",
       "    </tr>\n",
       "    <tr>\n",
       "      <th>2018-01-01 00:29:10</th>\n",
       "      <td>0.008415</td>\n",
       "      <td>-0.065011</td>\n",
       "      <td>0.073426</td>\n",
       "    </tr>\n",
       "  </tbody>\n",
       "</table>\n",
       "</div>"
      ],
      "text/plain": [
       "                     Predicted  Measured     Error\n",
       "2018-01-01 00:29:01   0.172776  0.149749  0.023027\n",
       "2018-01-01 00:29:02   0.115159  0.038461  0.076698\n",
       "2018-01-01 00:29:03  -0.008270 -0.169175  0.160905\n",
       "2018-01-01 00:29:04  -0.186762 -0.300361  0.113599\n",
       "2018-01-01 00:29:05  -0.229210 -0.270174  0.040964\n",
       "2018-01-01 00:29:06  -0.136440 -0.268367  0.131927\n",
       "2018-01-01 00:29:07  -0.162658 -0.102444 -0.060214\n",
       "2018-01-01 00:29:08   0.035719 -0.085590  0.121309\n",
       "2018-01-01 00:29:09  -0.043530 -0.048105  0.004575\n",
       "2018-01-01 00:29:10   0.008415 -0.065011  0.073426"
      ]
     },
     "metadata": {},
     "output_type": "display_data"
    },
    {
     "name": "stdout",
     "output_type": "stream",
     "text": [
      "Root Mean Square Error: 0.08804476247706919\n"
     ]
    }
   ],
   "source": [
    "# Your code here:\n",
    "from statsmodels.tools.eval_measures import rmse\n",
    "\n",
    "predictions['Measured'] = sensor['userAcceleration.x'][-10:]\n",
    "predictions.columns = ['Predicted', 'Measured']\n",
    "predictions['Error'] = predictions['Predicted'] - predictions['Measured']\n",
    "display(predictions)\n",
    "RMSE = (predictions['Error']*predictions['Error']).sum()\n",
    "print ('Root Mean Square Error: {}'.format(RMSE))\n"
   ]
  },
  {
   "cell_type": "code",
   "execution_count": null,
   "metadata": {},
   "outputs": [],
   "source": [
    "\n"
   ]
  },
  {
   "cell_type": "code",
   "execution_count": null,
   "metadata": {},
   "outputs": [],
   "source": []
  }
 ],
 "metadata": {
  "kernelspec": {
   "display_name": "Python 3",
   "language": "python",
   "name": "python3"
  },
  "language_info": {
   "codemirror_mode": {
    "name": "ipython",
    "version": 3
   },
   "file_extension": ".py",
   "mimetype": "text/x-python",
   "name": "python",
   "nbconvert_exporter": "python",
   "pygments_lexer": "ipython3",
   "version": "3.6.7"
  }
 },
 "nbformat": 4,
 "nbformat_minor": 2
}
