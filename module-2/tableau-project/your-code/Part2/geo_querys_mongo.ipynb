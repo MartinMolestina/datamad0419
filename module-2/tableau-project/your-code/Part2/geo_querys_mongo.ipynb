{
 "cells": [
  {
   "cell_type": "code",
   "execution_count": 1,
   "metadata": {},
   "outputs": [],
   "source": [
    "#import libraries\n",
    "from pymongo import MongoClient\n",
    "import pandas as pd"
   ]
  },
  {
   "cell_type": "code",
   "execution_count": 164,
   "metadata": {},
   "outputs": [],
   "source": [
    "def connect_mongo():\n",
    "    client = MongoClient ('localhost', 27017)\n",
    "    db = client['companies_clean']\n",
    "    return db\n",
    "\n",
    "# Query to MongoDB to get the companies within a radius\n",
    "def geoquery(lat, long, radius=800):\n",
    "    db = connect_mongo()\n",
    "    loc = {\"lng\": long, \"lat\": lat}\n",
    "\n",
    "    result = pd.DataFrame(db.comps.find({\n",
    "        \"coord\": {\n",
    "         \"$near\": {\n",
    "           \"$geometry\": {\n",
    "              \"type\": \"Point\" ,\n",
    "              \"coordinates\": [ loc[\"lng\"] , loc[\"lat\"] ]\n",
    "           },\n",
    "           \"$maxDistance\": radius, # In meters \n",
    "         }\n",
    "        }}))\n",
    "    return result\n",
    "\n",
    "\n",
    "\n",
    "def add_money_emp():\n",
    "    db = connect_mongo()\n",
    "    all_comps = pd.DataFrame(db.comps.find())\n",
    "    all_comps = all_comps.drop(columns='_id')\n",
    "    #all_comps = all_comps.loc[all_comps.astype(str).drop_duplicates().index]\n",
    "\n",
    "    money = []\n",
    "    employees = []\n",
    "    for i in range(len(all_comps)):#\n",
    "        comp = geoquery(all_comps['latitude'][i],all_comps['longitude'][i]).sum(axis = 0, skipna = True)\n",
    "        try:\n",
    "            money.append(comp['total_money_raised'])\n",
    "        except:\n",
    "            money.append(None)\n",
    "        try:\n",
    "            employees.append(comp['number_of_employees'])\n",
    "        except:\n",
    "            employees.append(None)\n",
    "            \n",
    "    all_comps['employees_neighborhood'] = employees      \n",
    "    all_comps['money_neighborhood'] = money\n",
    "    return all_comps\n",
    "\n",
    "def get_neighborhood(companies, sortby, r):\n",
    "    companies = companies.sort_values(by=sortby, ascending=False)\n",
    "    companies = companies.reset_index(drop=True)\n",
    "    coords = {'lat': companies['latitude'][0],\n",
    "                'lng': companies['longitude'][0]}\n",
    "    return geoquery(coords['lat'], coords['lng'], r)"
   ]
  },
  {
   "cell_type": "code",
   "execution_count": 165,
   "metadata": {},
   "outputs": [],
   "source": [
    "companies = add_money_emp()\n",
    "companies['$/emp_neighborhood'] = companies['money_neighborhood']/companies['employees_neighborhood']\n",
    "money_priority = get_neighborhood(companies, 'money_neighborhood', 5000)\n",
    "people_priority = get_neighborhood(companies, 'employees_neighborhood', 5000)\n",
    "mpr_priority = get_neighborhood(companies, '$/emp_neighborhood', 5000)\n"
   ]
  },
  {
   "cell_type": "code",
   "execution_count": 168,
   "metadata": {},
   "outputs": [
    {
     "data": {
      "text/html": [
       "<div>\n",
       "<style scoped>\n",
       "    .dataframe tbody tr th:only-of-type {\n",
       "        vertical-align: middle;\n",
       "    }\n",
       "\n",
       "    .dataframe tbody tr th {\n",
       "        vertical-align: top;\n",
       "    }\n",
       "\n",
       "    .dataframe thead th {\n",
       "        text-align: right;\n",
       "    }\n",
       "</style>\n",
       "<table border=\"1\" class=\"dataframe\">\n",
       "  <thead>\n",
       "    <tr style=\"text-align: right;\">\n",
       "      <th></th>\n",
       "      <th>_id</th>\n",
       "      <th>category_code</th>\n",
       "      <th>coord</th>\n",
       "      <th>founded_year</th>\n",
       "      <th>latitude</th>\n",
       "      <th>longitude</th>\n",
       "      <th>name</th>\n",
       "      <th>number_of_employees</th>\n",
       "      <th>raised_amount</th>\n",
       "      <th>raised_currency_code</th>\n",
       "      <th>total_money_raised</th>\n",
       "    </tr>\n",
       "  </thead>\n",
       "  <tbody>\n",
       "    <tr>\n",
       "      <th>0</th>\n",
       "      <td>5cd5942a666d28a915fcd954</td>\n",
       "      <td>web</td>\n",
       "      <td>[72.8545019, 19.0627565]</td>\n",
       "      <td>2007</td>\n",
       "      <td>19.062756</td>\n",
       "      <td>72.854502</td>\n",
       "      <td>Adhysteria</td>\n",
       "      <td>0.0</td>\n",
       "      <td>10000.0</td>\n",
       "      <td>USD</td>\n",
       "      <td>10000.0</td>\n",
       "    </tr>\n",
       "  </tbody>\n",
       "</table>\n",
       "</div>"
      ],
      "text/plain": [
       "                        _id category_code                     coord  \\\n",
       "0  5cd5942a666d28a915fcd954           web  [72.8545019, 19.0627565]   \n",
       "\n",
       "   founded_year   latitude  longitude        name  number_of_employees  \\\n",
       "0          2007  19.062756  72.854502  Adhysteria                  0.0   \n",
       "\n",
       "   raised_amount raised_currency_code  total_money_raised  \n",
       "0        10000.0                  USD             10000.0  "
      ]
     },
     "execution_count": 168,
     "metadata": {},
     "output_type": "execute_result"
    }
   ],
   "source": [
    "mpr_priority.head()"
   ]
  },
  {
   "cell_type": "code",
   "execution_count": null,
   "metadata": {},
   "outputs": [],
   "source": [
    "\n"
   ]
  },
  {
   "cell_type": "code",
   "execution_count": null,
   "metadata": {},
   "outputs": [],
   "source": []
  },
  {
   "cell_type": "code",
   "execution_count": null,
   "metadata": {},
   "outputs": [],
   "source": []
  }
 ],
 "metadata": {
  "kernelspec": {
   "display_name": "Python 3",
   "language": "python",
   "name": "python3"
  },
  "language_info": {
   "codemirror_mode": {
    "name": "ipython",
    "version": 3
   },
   "file_extension": ".py",
   "mimetype": "text/x-python",
   "name": "python",
   "nbconvert_exporter": "python",
   "pygments_lexer": "ipython3",
   "version": "3.6.7"
  }
 },
 "nbformat": 4,
 "nbformat_minor": 2
}
