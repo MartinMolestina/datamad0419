{
 "cells": [
  {
   "cell_type": "code",
   "execution_count": 1,
   "metadata": {},
   "outputs": [],
   "source": [
    "#import libraries\n",
    "from pymongo import MongoClient\n",
    "import pandas as pd"
   ]
  },
  {
   "cell_type": "code",
   "execution_count": 172,
   "metadata": {},
   "outputs": [],
   "source": [
    "def connect_mongo():\n",
    "    client = MongoClient ('localhost', 27017)\n",
    "    db = client['companies_clean']\n",
    "    return db\n",
    "\n",
    "# Query to MongoDB to get the companies within a radius\n",
    "def geoquery(lat, long, radius=800):\n",
    "    db = connect_mongo()\n",
    "    loc = {\"lng\": long, \"lat\": lat}\n",
    "\n",
    "    result = pd.DataFrame(db.comps.find({\n",
    "        \"coord\": {\n",
    "         \"$near\": {\n",
    "           \"$geometry\": {\n",
    "              \"type\": \"Point\" ,\n",
    "              \"coordinates\": [ loc[\"lng\"] , loc[\"lat\"] ]\n",
    "           },\n",
    "           \"$maxDistance\": radius, # In meters \n",
    "         }\n",
    "        }}))\n",
    "    return result\n",
    "\n",
    "\n",
    "\n",
    "def add_money_emp():\n",
    "    db = connect_mongo()\n",
    "    all_comps = pd.DataFrame(db.comps.find())\n",
    "    all_comps = all_comps.drop(columns='_id')\n",
    "    #all_comps = all_comps.loc[all_comps.astype(str).drop_duplicates().index]\n",
    "\n",
    "    money = []\n",
    "    employees = []\n",
    "    for i in range(len(all_comps)):#\n",
    "        comp = geoquery(all_comps['latitude'][i],all_comps['longitude'][i]).sum(axis = 0, skipna = True)\n",
    "        try:\n",
    "            money.append(comp['total_money_raised'])\n",
    "        except:\n",
    "            money.append(None)\n",
    "        try:\n",
    "            employees.append(comp['number_of_employees'])\n",
    "        except:\n",
    "            employees.append(None)\n",
    "            \n",
    "    all_comps['employees_neighborhood'] = employees      \n",
    "    all_comps['money_neighborhood'] = money\n",
    "    return all_comps\n",
    "\n",
    "def get_neighborhood(companies, sortby, r):\n",
    "    companies = companies.sort_values(by=sortby, ascending=False)\n",
    "    companies = companies.reset_index(drop=True)\n",
    "    coords = {'lat': companies['latitude'][0],\n",
    "                'lng': companies['longitude'][0]}\n",
    "    return geoquery(coords['lat'], coords['lng'], r)"
   ]
  },
  {
   "cell_type": "code",
   "execution_count": 176,
   "metadata": {},
   "outputs": [],
   "source": [
    "companies = add_money_emp()\n",
    "get_neighborhood(companies, 'money_neighborhood', 5000).to_csv('money_companies.csv')\n",
    "get_neighborhood(companies, 'employees_neighborhood', 5000).to_csv('employees_companies.csv')\n",
    "\n"
   ]
  },
  {
   "cell_type": "code",
   "execution_count": null,
   "metadata": {},
   "outputs": [],
   "source": []
  },
  {
   "cell_type": "code",
   "execution_count": null,
   "metadata": {},
   "outputs": [],
   "source": []
  },
  {
   "cell_type": "code",
   "execution_count": null,
   "metadata": {},
   "outputs": [],
   "source": []
  },
  {
   "cell_type": "code",
   "execution_count": null,
   "metadata": {},
   "outputs": [],
   "source": []
  }
 ],
 "metadata": {
  "kernelspec": {
   "display_name": "Python 3",
   "language": "python",
   "name": "python3"
  },
  "language_info": {
   "codemirror_mode": {
    "name": "ipython",
    "version": 3
   },
   "file_extension": ".py",
   "mimetype": "text/x-python",
   "name": "python",
   "nbconvert_exporter": "python",
   "pygments_lexer": "ipython3",
   "version": "3.6.7"
  }
 },
 "nbformat": 4,
 "nbformat_minor": 2
}
