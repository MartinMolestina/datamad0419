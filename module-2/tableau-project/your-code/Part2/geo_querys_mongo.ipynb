{
 "cells": [
  {
   "cell_type": "code",
   "execution_count": 1,
   "metadata": {},
   "outputs": [],
   "source": [
    "from pymongo import MongoClient\n",
    "import pandas as pd\n",
    "from pandas.io.json import json_normalize"
   ]
  },
  {
   "cell_type": "code",
   "execution_count": 7,
   "metadata": {},
   "outputs": [
    {
     "data": {
      "text/plain": [
       "158"
      ]
     },
     "execution_count": 7,
     "metadata": {},
     "output_type": "execute_result"
    }
   ],
   "source": [
    "client = MongoClient ('localhost', 27017)\n",
    "db = client['companies_clean']\n",
    "    \n",
    "nearLocation = {\n",
    "    \"lng\": 40.717432,\n",
    "    \"lat\": -73.994943\n",
    "}\n",
    "\n",
    "comps = pd.DataFrame(db.comps.find({\n",
    "    \"coord\": {\n",
    "     \"$near\": {\n",
    "       \"$geometry\": {\n",
    "          \"type\": \"Point\" ,\n",
    "          \"coordinates\": [ nearLocation[\"lat\"] , nearLocation[\"lng\"] ]\n",
    "       },\n",
    "       \"$maxDistance\": 5000, # In meters\n",
    "     }\n",
    "   }\n",
    "}))\n",
    "\n",
    "len(comps)"
   ]
  },
  {
   "cell_type": "code",
   "execution_count": null,
   "metadata": {},
   "outputs": [],
   "source": []
  }
 ],
 "metadata": {
  "kernelspec": {
   "display_name": "Python 3",
   "language": "python",
   "name": "python3"
  },
  "language_info": {
   "codemirror_mode": {
    "name": "ipython",
    "version": 3
   },
   "file_extension": ".py",
   "mimetype": "text/x-python",
   "name": "python",
   "nbconvert_exporter": "python",
   "pygments_lexer": "ipython3",
   "version": "3.6.7"
  }
 },
 "nbformat": 4,
 "nbformat_minor": 2
}
